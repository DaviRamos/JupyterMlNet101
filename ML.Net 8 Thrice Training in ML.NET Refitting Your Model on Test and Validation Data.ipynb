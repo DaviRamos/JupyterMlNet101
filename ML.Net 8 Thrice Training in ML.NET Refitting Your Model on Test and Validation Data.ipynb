{
 "cells": [
  {
   "cell_type": "markdown",
   "metadata": {},
   "source": [
    "<img align=\"Left\" alt=\"Dados_ao_Cubo\" src=\"../shared_content/DADOS-AO-CUBO-Versão-04-1.png\" />\n",
    "<img align=\"right\" alt=\"MLNet\" src=\"../shared_content/EJ3KsfJWsAEtDaZ.png\" />"
   ]
  },
  {
   "cell_type": "markdown",
   "metadata": {},
   "source": [
    "\n",
    "\n"
   ]
  },
  {
   "cell_type": "markdown",
   "metadata": {},
   "source": [
    "## Davi Ramos -> Cientista de Dados 👋\n",
    "(davi.info@gmail.com)\n",
    "\n",
    "[![Linkedin Badge](https://img.shields.io/badge/-LinkedIn-blue?style=flat-square&logo=Linkedin&logoColor=white&link=https://www.linkedin.com/in/davi-ramos/)](https://www.linkedin.com/in/davi-ramos/)\n",
    "[![Twitter Badge](https://img.shields.io/badge/-Twitter-1DA1F2?style=flat-square&logo=Twitter&logoColor=white&link=https://twitter.com/Daviinfo/)](https://twitter.com/Daviinfo/)\n",
    "<a href=\"https://github.com/DaviRamos\"><img src=\"https://img.shields.io/github/followers/DaviRamos.svg?label=GitHub&style=social\" alt=\"GitHub\"></a>"
   ]
  },
  {
   "cell_type": "markdown",
   "metadata": {},
   "source": [
    "# ML.Net - Auto ML"
   ]
  },
  {
   "cell_type": "markdown",
   "metadata": {},
   "source": [
    "## Este exemplo irá demontrar o Uso de AutoML com ML.Net"
   ]
  },
  {
   "cell_type": "code",
   "execution_count": 1,
   "metadata": {},
   "outputs": [
    {
     "data": {
      "text/html": [
       "\r\n",
       "<div>\r\n",
       "    <div id='dotnet-interactive-this-cell-259ad756c907427691861bd4d829ed69' style='display: none'>\r\n",
       "        The below script needs to be able to find the current output cell; this is an easy method to get it.\r\n",
       "    </div>\r\n",
       "    <script type='text/javascript'>\r\n",
       "// ensure `requirejs` is available globally\r\n",
       "if (typeof requirejs !== typeof Function || typeof requirejs.config !== typeof Function) {\r\n",
       "    let requirejs_script = document.createElement('script');\r\n",
       "    requirejs_script.setAttribute('src', 'https://cdnjs.cloudflare.com/ajax/libs/require.js/2.3.6/require.min.js');\r\n",
       "    requirejs_script.setAttribute('type', 'text/javascript');\r\n",
       "    requirejs_script.onload = function () {\r\n",
       "        loadDotnetInteractiveApi();\r\n",
       "    };\r\n",
       "\r\n",
       "    document.getElementsByTagName('head')[0].appendChild(requirejs_script);\r\n",
       "}\r\n",
       "else {\r\n",
       "    loadDotnetInteractiveApi();\r\n",
       "}\r\n",
       "\r\n",
       "async function probeAddresses(probingAddresses) {\r\n",
       "    function timeout(ms, promise) {\r\n",
       "        return new Promise(function (resolve, reject) {\r\n",
       "            setTimeout(function () {\r\n",
       "                reject(new Error('timeout'))\r\n",
       "            }, ms)\r\n",
       "            promise.then(resolve, reject)\r\n",
       "        })\r\n",
       "    }\r\n",
       "\r\n",
       "    if (Array.isArray(probingAddresses)) {\r\n",
       "        for (let i = 0; i < probingAddresses.length; i++) {\r\n",
       "\r\n",
       "            let rootUrl = probingAddresses[i];\r\n",
       "\r\n",
       "            if (!rootUrl.endsWith('/')) {\r\n",
       "                rootUrl = `${rootUrl}/`;\r\n",
       "            }\r\n",
       "\r\n",
       "            try {\r\n",
       "                let response = await timeout(1000, fetch(`${rootUrl}discovery`, {\r\n",
       "                    method: 'POST',\r\n",
       "                    timeout: 1000,\r\n",
       "                    headers: {\r\n",
       "                        'Content-Type': 'text/plain'\r\n",
       "                    },\r\n",
       "                    body: probingAddresses[i]\r\n",
       "                }));\r\n",
       "\r\n",
       "                if (response.status == 200) {\r\n",
       "                    return rootUrl;\r\n",
       "                }\r\n",
       "            }\r\n",
       "            catch (e) { }\r\n",
       "        }\r\n",
       "    }\r\n",
       "}\r\n",
       "\r\n",
       "function loadDotnetInteractiveApi() {\r\n",
       "    probeAddresses([\"http://192.168.0.14:1000/\", \"http://127.0.0.1:1000/\"])\r\n",
       "        .then((root) => {\r\n",
       "            // use probing to find host url and api resources\r\n",
       "            // load interactive helpers and language services\r\n",
       "            let dotnet_require = requirejs.config({\r\n",
       "                context: '27532.259ad756c907427691861bd4d829ed69',\r\n",
       "                paths: {\r\n",
       "                    'dotnet-interactive': `${root}resources`\r\n",
       "                }\r\n",
       "            });\r\n",
       "            if (!window.dotnet_require) {\r\n",
       "                window.dotnet_require = dotnet_require;\r\n",
       "            }\r\n",
       "        \r\n",
       "            dotnet_require([\r\n",
       "                    'dotnet-interactive/dotnet-interactive'\r\n",
       "                ],\r\n",
       "                function (dotnet) {\r\n",
       "                    dotnet.init(window);\r\n",
       "                },\r\n",
       "                function (error) {\r\n",
       "                    console.log(error);\r\n",
       "                }\r\n",
       "            );\r\n",
       "        })\r\n",
       "        .catch(error => {console.log(error);});\r\n",
       "    }\r\n",
       "    </script>\r\n",
       "</div>"
      ]
     },
     "metadata": {},
     "output_type": "display_data"
    },
    {
     "data": {
      "text/plain": [
       "Installed package Microsoft.ML version 1.5.2"
      ]
     },
     "metadata": {},
     "output_type": "display_data"
    },
    {
     "data": {
      "text/plain": [
       "Installed package Microsoft.ML.AutoML version 0.17.2"
      ]
     },
     "metadata": {},
     "output_type": "display_data"
    }
   ],
   "source": [
    "// Instalar os Pacotes do Nuget\n",
    "\n",
    "// ML.NET\n",
    "#r \"nuget:Microsoft.ML\"  \n",
    "\n",
    "// ML.NET AutoML\n",
    "#r \"nuget:Microsoft.ML.AutoML\" "
   ]
  },
  {
   "cell_type": "code",
   "execution_count": 2,
   "metadata": {},
   "outputs": [],
   "source": [
    "using Microsoft.ML;\n",
    "using Microsoft.ML.AutoML;\n",
    "using Microsoft.ML.Data;\n",
    "using System;\n",
    "using System.IO;"
   ]
  },
  {
   "cell_type": "code",
   "execution_count": 3,
   "metadata": {},
   "outputs": [],
   "source": [
    "// Caminho dos arquivos\n",
    "private static string TRAIN_PATH = \"./house_train.csv\";\n",
    "private static string TEST_PATH = \"./house_test.csv\";\n",
    "private static string VALIDATION_PATH = \"./house_validate.csv\";\n",
    "private static string LABEL_NAME = \"median_house_value\";"
   ]
  },
  {
   "cell_type": "code",
   "execution_count": 4,
   "metadata": {},
   "outputs": [],
   "source": [
    "public static void PrintRSquared(RegressionMetrics metrics)\n",
    "{\n",
    "    Console.WriteLine($\"R^2: {metrics.RSquared}\");\n",
    "    Console.Write(Environment.NewLine);\n",
    "}"
   ]
  },
  {
   "cell_type": "code",
   "execution_count": 6,
   "metadata": {},
   "outputs": [],
   "source": [
    "            var context = new MLContext();\n",
    "\n",
    "            // Text loader from scratch\n",
    "            //var textLoaderOptions = new TextLoader.Options\n",
    "            //{\n",
    "            //    Separators = new[] {','},\n",
    "            //    HasHeader = true,\n",
    "            //    Columns = new[]\n",
    "            //    {\n",
    "            //        new TextLoader.Column(\"Features\", DataKind.Single, 0, 7),\n",
    "            //        new TextLoader.Column(\"Label\", DataKind.Single, 8),\n",
    "            //        new TextLoader.Column(\"OceanProximity\", DataKind.String, 9)\n",
    "            //    }\n",
    "            //};\n",
    "\n",
    "            //var loader = context.Data.CreateTextLoader(textLoaderOptions);\n",
    "            //var loaderData = loader.Load(TRAIN_PATH);\n",
    "\n",
    "            // Text loader from inference\n",
    "            var inference = context.Auto().InferColumns(TRAIN_PATH, hasHeader: true, separatorChar: ',', labelColumnIndex: 8);\n",
    "\n",
    "            var loader = context.Data.CreateTextLoader(inference.TextLoaderOptions);\n",
    "\n",
    "            var trainData = loader.Load(TRAIN_PATH);\n",
    "            var validationData = loader.Load(VALIDATION_PATH);\n",
    "            var testData = loader.Load(TEST_PATH);\n",
    "\n",
    "            var experimentSettings = new RegressionExperimentSettings\n",
    "            {\n",
    "                MaxExperimentTimeInSeconds = 60,\n",
    "                OptimizingMetric = RegressionMetric.RSquared\n",
    "            };\n",
    "\n",
    "            // First training (on train data)\n",
    "            var experimentResult = context.Auto()\n",
    "                .CreateRegressionExperiment(experimentSettings)\n",
    "                .Execute(trainData, validationData, labelColumnName: LABEL_NAME);\n",
    "            \n",
    "            var firstPredictions = experimentResult.BestRun.Model.Transform(testData);\n",
    "            var firstMetrics = context.Regression.Evaluate(firstPredictions, LABEL_NAME);\n",
    "            PrintRSquared(firstMetrics);\n",
    "\n",
    "            // Second training (on train + validation data)\n",
    "            var trainPlusValidationData = loader.Load(new MultiFileSource(TRAIN_PATH, VALIDATION_PATH));\n",
    "            var refitModel = experimentResult.BestRun.Estimator.Fit(trainPlusValidationData);\n",
    "            IDataView predictionsRefitOnTrainPlusValidation = refitModel.Transform(testData);\n",
    "            var secondMetrics = context.Regression.Evaluate(predictionsRefitOnTrainPlusValidation, LABEL_NAME);\n",
    "            PrintRSquared(secondMetrics);\n",
    "\n",
    "            // Third training (on train + test + validation data)\n",
    "            var trainPlusValidationPlusTestDataView = loader.Load(new MultiFileSource(TRAIN_PATH, VALIDATION_PATH, TEST_PATH));\n",
    "            var refitModelOnValidationData = experimentResult.BestRun.Estimator.Fit(trainPlusValidationPlusTestDataView);\n",
    "\n",
    "            context.Model.Save(refitModelOnValidationData, trainData.Schema, \"./house_model.zip\");"
   ]
  },
  {
   "cell_type": "code",
   "execution_count": null,
   "metadata": {},
   "outputs": [],
   "source": []
  }
 ],
 "metadata": {
  "kernelspec": {
   "display_name": ".NET (C#)",
   "language": "C#",
   "name": ".net-csharp"
  },
  "language_info": {
   "file_extension": ".cs",
   "mimetype": "text/x-csharp",
   "name": "C#",
   "pygments_lexer": "csharp",
   "version": "8.0"
  }
 },
 "nbformat": 4,
 "nbformat_minor": 4
}