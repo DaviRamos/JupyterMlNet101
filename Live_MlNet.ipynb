{
 "cells": [
  {
   "cell_type": "markdown",
   "metadata": {},
   "source": [
    "# Live ML.Net - Machine Learning 101 - Sensor MultiClassCalssification"
   ]
  },
  {
   "cell_type": "markdown",
   "metadata": {},
   "source": [
    "| Versão ML.NET  |  Status                        | App Type    | Data type | Scenario            | ML Task                   | Algorithms                  |\n",
    "|-------------------|-------------------------------|-------------|-----------|---------------------|---------------------------|-----------------------------|\n",
    "| v1.5.4           | Up-to-date | Jupyter Notebook | .Csv files | Sensor classification | Multi-class classification | Sdca Multi-class |\n",
    "\n",
    "Neste Notebook temos ume exemplo de uso do [ML.NET](https://github.com/dcostea/SmartFireAlarm/tree/master/SmartFireAlarm/Jupyter)  (com adpatações) baseado  na série de artigos do [Daniel Costea](https://www.linkedin.com/in/danielcostea/) no blog [jaxenter](https://jaxenter.com/author/danielcostea) para um classificador Multi-Classes.\n",
    " "
   ]
  },
  {
   "cell_type": "markdown",
   "metadata": {},
   "source": [
    "## Davi Ramos -> Cientista de Dados 👋\n",
    "(davi.info@gmail.com)\n",
    "\n",
    "[![Linkedin Badge](https://img.shields.io/badge/-LinkedIn-blue?style=flat-square&logo=Linkedin&logoColor=white&link=https://www.linkedin.com/in/davi-ramos/)](https://www.linkedin.com/in/davi-ramos/)\n",
    "[![Twitter Badge](https://img.shields.io/badge/-Twitter-1DA1F2?style=flat-square&logo=Twitter&logoColor=white&link=https://twitter.com/Daviinfo/)](https://twitter.com/Daviinfo/)\n",
    "<a href=\"https://github.com/DaviRamos\"><img src=\"https://img.shields.io/github/followers/DaviRamos.svg?label=GitHub&style=social\" alt=\"GitHub\"></a>\\"
   ]
  },
  {
   "cell_type": "code",
   "execution_count": 1,
   "metadata": {},
   "source": [
    "// Instalar os Pacotes do Nuget\n",
    "\n",
    "// ML.NET\n",
    "#r \"nuget:Microsoft.ML\"  \n",
    "   \n",
    "//  DataFrame\n",
    "#r \"nuget:Microsoft.Data.Analysis\"\n",
    "\n",
    "//  XPlot\n",
    "#r \"nuget:XPlot.Plotly\"   \n",
    "\n",
    "// MathNet.Numerics\n",
    "#r \"nuget:MathNet.Numerics\"\n",
    "using MathNet.Numerics.Statistics;"
   ],
   "outputs": [
    {
     "output_type": "execute_result",
     "data": {
      "text/plain": "Installed package Microsoft.Data.Analysis version 0.4.0"
     },
     "execution_count": 1,
     "metadata": {}
    },
    {
     "output_type": "execute_result",
     "data": {
      "text/plain": "Installed package Microsoft.ML version 1.5.4"
     },
     "execution_count": 1,
     "metadata": {}
    },
    {
     "output_type": "execute_result",
     "data": {
      "text/plain": "Installed package MathNet.Numerics version 4.15.0"
     },
     "execution_count": 1,
     "metadata": {}
    },
    {
     "output_type": "execute_result",
     "data": {
      "text/plain": "Installed package XPlot.Plotly version 3.0.1"
     },
     "execution_count": 1,
     "metadata": {}
    }
   ]
  },
  {
   "cell_type": "code",
   "execution_count": 1,
   "metadata": {},
   "source": [
    "using System;\n",
    "using System.Linq;\n",
    "using Microsoft.DotNet.Interactive.Formatting;\n",
    "using Microsoft.AspNetCore.Html;\n",
    "using Microsoft.ML;\n",
    "using Microsoft.ML.Data;\n",
    "using XPlot.Plotly;\n",
    "using MathNet.Numerics.Statistics;\n",
    "using System.Collections.Generic;"
   ],
   "outputs": []
  },
  {
   "cell_type": "code",
   "execution_count": 1,
   "metadata": {},
   "source": [
    "MLContext mlContext = new MLContext(seed: 2020);"
   ],
   "outputs": []
  },
  {
   "cell_type": "markdown",
   "metadata": {},
   "source": [
    "## Declaração dos modelos para nosso conjunto de dados"
   ]
  },
  {
   "cell_type": "code",
   "execution_count": 1,
   "metadata": {},
   "source": [
    "public class ModelInput\n",
    "{\n",
    "    [ColumnName(\"Temperature\"), LoadColumn(0)]\n",
    "    public float Temperature { get; set; }\n",
    "\n",
    "    [ColumnName(\"Luminosity\"), LoadColumn(1)]\n",
    "    public float Luminosity { get; set; }\n",
    "\n",
    "    [ColumnName(\"Infrared\"), LoadColumn(2)]\n",
    "    public float Infrared { get; set; }\n",
    "\n",
    "    [ColumnName(\"Distance\"), LoadColumn(3)]\n",
    "    public float Distance { get; set; }\n",
    "\n",
    "    [ColumnName(\"PIR\"), LoadColumn(4)]\n",
    "    public float PIR { get; set; }\n",
    "\n",
    "    [ColumnName(\"Humidity\"), LoadColumn(5)]\n",
    "    public float Humidity { get; set; }\n",
    "\n",
    "    [ColumnName(\"CreatedAt\"), LoadColumn(6)]\n",
    "    public string CreatedAt { get; set; }\n",
    "\n",
    "    [ColumnName(\"Label\"), LoadColumn(7)]\n",
    "    public string Source { get; set; }\n",
    "}\n",
    "\n",
    "public class ModelOutput\n",
    "{\n",
    "    [ColumnName(\"PredictedLabel\")]\n",
    "    public string PredictedLabel;\n",
    "\n",
    "    [ColumnName(\"Score\")]\n",
    "    public float[] Score;\n",
    "}"
   ],
   "outputs": []
  },
  {
   "cell_type": "code",
   "execution_count": 1,
   "metadata": {},
   "source": [
    "// Caminho dos arquivos\n",
    "var datasetPath = \"./Datasets/sensors/sensors_data.csv\";\n",
    "var ModelPath = @\"./Models/SensorModel.zip\";"
   ],
   "outputs": []
  },
  {
   "cell_type": "code",
   "execution_count": 1,
   "metadata": {},
   "source": [
    ""
   ],
   "outputs": [
    {
     "output_type": "error",
     "ename": "Error",
     "evalue": "(2,20): error CS0246: O nome do tipo ou do namespace \"DataFrame\" não pode ser encontrado (está faltando uma diretiva using ou uma referência de assembly?)",
     "traceback": []
    }
   ]
  },
  {
   "cell_type": "code",
   "execution_count": 1,
   "metadata": {},
   "source": [
    "IDataView data = mlContext.Data.LoadFromTextFile<ModelInput>(\n",
    "    path: datasetPath,\n",
    "    hasHeader: true,\n",
    "    separatorChar: ',');"
   ],
   "outputs": []
  },
  {
   "cell_type": "markdown",
   "metadata": {},
   "source": [
    "Carregar alguns dados estruturados do arquivo csv usando o  MLContext."
   ]
  },
  {
   "cell_type": "code",
   "execution_count": 1,
   "metadata": {},
   "source": [
    "var shuffledData = mlContext.Data.ShuffleRows(data, seed: 2020);\n",
    "var split = mlContext.Data.TrainTestSplit(shuffledData, testFraction: 0.2);\n",
    "var trainingData = split.TrainSet;\n",
    "var testingData = split.TestSet;"
   ],
   "outputs": []
  },
  {
   "cell_type": "markdown",
   "metadata": {},
   "source": [
    "É conveniente embaralhar os dados e dividi-los em duas categorias, dados de treinamento e dados de teste num subconjunto de 80% paraose dados de treinamento e o restante 20% para conjunto de dados de teste."
   ]
  },
  {
   "cell_type": "code",
   "execution_count": 1,
   "metadata": {},
   "source": [
    "var features = mlContext.Data.CreateEnumerable<ModelInput>(trainingData, true);\n",
    "var sources = features.Select(f => f.Source);\n",
    "var temperatures = features.Select(f => f.Temperature);\n",
    "var luminosities = features.Select(f => f.Luminosity);\n",
    "var infrareds = features.Select(f => f.Infrared);\n",
    "var distances = features.Select(f => f.Distance);\n",
    "var pirs = features.Select(f => f.PIR);\n",
    "var humidities = features.Select(f => f.Humidity);\n",
    "var labels = features.Select(f => f.Source);"
   ],
   "outputs": []
  },
  {
   "cell_type": "markdown",
   "metadata": {},
   "source": [
    "Os dados de treinamento do DataView não estão diretamente acessíveis, portanto, podemos criar uma coleção a partir deles e exibi-los usando o comando display. Deixe-me entrar em detalhes. Em um Notebook Jupyter, podemos usar Console.WriteLine para imprimir dados, mas adoraremos exibir o comando, pois ele pode imprimir texto, html, svn e gráficos, usando DataFrame. Vamos ter cuidado para não exibir o conjunto de dados inteiro para que possamos usar Take (10) para buscar as primeiras 10 observações."
   ]
  },
  {
   "cell_type": "code",
   "execution_count": 1,
   "metadata": {},
   "source": [
    "display(features.Take(10)); // be carefull here not to display the entire dataset"
   ],
   "outputs": [
    {
     "output_type": "execute_result",
     "data": {
      "text/html": "<table><thead><tr><th><i>index</i></th><th>Temperature</th><th>Luminosity</th><th>Infrared</th><th>Distance</th><th>PIR</th><th>Humidity</th><th>CreatedAt</th><th>Source</th></tr></thead><tbody><tr><td>0</td><td><div class=\"dni-plaintext\">32.5</div></td><td><div class=\"dni-plaintext\">56.93</div></td><td><div class=\"dni-plaintext\">0</div></td><td><div class=\"dni-plaintext\">33</div></td><td><div class=\"dni-plaintext\">0</div></td><td><div class=\"dni-plaintext\">13</div></td><td><div class=\"dni-plaintext\">09/09/2020 08:19:36</div></td><td><div class=\"dni-plaintext\">FlashLight</div></td></tr><tr><td>1</td><td><div class=\"dni-plaintext\">32.5</div></td><td><div class=\"dni-plaintext\">56.93</div></td><td><div class=\"dni-plaintext\">0</div></td><td><div class=\"dni-plaintext\">33</div></td><td><div class=\"dni-plaintext\">0</div></td><td><div class=\"dni-plaintext\">13</div></td><td><div class=\"dni-plaintext\">09/09/2020 08:19:36</div></td><td><div class=\"dni-plaintext\">FlashLight</div></td></tr><tr><td>2</td><td><div class=\"dni-plaintext\">32.5</div></td><td><div class=\"dni-plaintext\">56.93</div></td><td><div class=\"dni-plaintext\">0</div></td><td><div class=\"dni-plaintext\">33</div></td><td><div class=\"dni-plaintext\">0</div></td><td><div class=\"dni-plaintext\">13</div></td><td><div class=\"dni-plaintext\">09/09/2020 08:19:36</div></td><td><div class=\"dni-plaintext\">FlashLight</div></td></tr><tr><td>3</td><td><div class=\"dni-plaintext\">32.5</div></td><td><div class=\"dni-plaintext\">56.93</div></td><td><div class=\"dni-plaintext\">0</div></td><td><div class=\"dni-plaintext\">33</div></td><td><div class=\"dni-plaintext\">0</div></td><td><div class=\"dni-plaintext\">13</div></td><td><div class=\"dni-plaintext\">09/09/2020 08:19:36</div></td><td><div class=\"dni-plaintext\">FlashLight</div></td></tr><tr><td>4</td><td><div class=\"dni-plaintext\">32.5</div></td><td><div class=\"dni-plaintext\">56.93</div></td><td><div class=\"dni-plaintext\">0</div></td><td><div class=\"dni-plaintext\">33</div></td><td><div class=\"dni-plaintext\">0</div></td><td><div class=\"dni-plaintext\">13</div></td><td><div class=\"dni-plaintext\">09/09/2020 08:19:36</div></td><td><div class=\"dni-plaintext\">FlashLight</div></td></tr><tr><td>5</td><td><div class=\"dni-plaintext\">32.5</div></td><td><div class=\"dni-plaintext\">56.93</div></td><td><div class=\"dni-plaintext\">0</div></td><td><div class=\"dni-plaintext\">33</div></td><td><div class=\"dni-plaintext\">0</div></td><td><div class=\"dni-plaintext\">13</div></td><td><div class=\"dni-plaintext\">09/09/2020 08:19:36</div></td><td><div class=\"dni-plaintext\">FlashLight</div></td></tr><tr><td>6</td><td><div class=\"dni-plaintext\">32.5</div></td><td><div class=\"dni-plaintext\">56.93</div></td><td><div class=\"dni-plaintext\">0</div></td><td><div class=\"dni-plaintext\">33</div></td><td><div class=\"dni-plaintext\">0</div></td><td><div class=\"dni-plaintext\">13</div></td><td><div class=\"dni-plaintext\">09/09/2020 08:19:36</div></td><td><div class=\"dni-plaintext\">FlashLight</div></td></tr><tr><td>7</td><td><div class=\"dni-plaintext\">32.5</div></td><td><div class=\"dni-plaintext\">56.93</div></td><td><div class=\"dni-plaintext\">0</div></td><td><div class=\"dni-plaintext\">33</div></td><td><div class=\"dni-plaintext\">0</div></td><td><div class=\"dni-plaintext\">13</div></td><td><div class=\"dni-plaintext\">09/09/2020 08:19:36</div></td><td><div class=\"dni-plaintext\">FlashLight</div></td></tr><tr><td>8</td><td><div class=\"dni-plaintext\">32.5</div></td><td><div class=\"dni-plaintext\">56.93</div></td><td><div class=\"dni-plaintext\">0</div></td><td><div class=\"dni-plaintext\">33</div></td><td><div class=\"dni-plaintext\">0</div></td><td><div class=\"dni-plaintext\">13</div></td><td><div class=\"dni-plaintext\">09/09/2020 08:19:36</div></td><td><div class=\"dni-plaintext\">FlashLight</div></td></tr><tr><td>9</td><td><div class=\"dni-plaintext\">32.5</div></td><td><div class=\"dni-plaintext\">56.93</div></td><td><div class=\"dni-plaintext\">0</div></td><td><div class=\"dni-plaintext\">33</div></td><td><div class=\"dni-plaintext\">0</div></td><td><div class=\"dni-plaintext\">13</div></td><td><div class=\"dni-plaintext\">09/09/2020 08:19:36</div></td><td><div class=\"dni-plaintext\">FlashLight</div></td></tr></tbody></table>"
     },
     "execution_count": 1,
     "metadata": {}
    }
   ]
  },
  {
   "cell_type": "markdown",
   "metadata": {},
   "source": [
    "Podemos notar alguns elementos especiais na imagem acima. Uma observação é uma leitura: uma linha com um conjunto de características. Os recursos são variáveis no conjunto de dados identificadas como colunas. Um rótulo ou uma variável de destino é um tipo especial de recurso que estamos tentando prever. Qualquer recurso pode ser um rótulo, dependendo do problema que estamos resolvendo.\n",
    "\n",
    "No próximo fórmula, os valores de x são as características e f é o nosso modelo que prevê o rótulo Y .\n",
    "\n",
    "Y = f (x1, x2, ... xn)\n",
    "\n",
    "É claro que não entendemos muito de olhar para os dados tabulares, mas Jupyter traz alguns tipos de diagramas excelentes com a biblioteca XPlot.Plotly, capaz de agregar os dados de uma maneira mais útil. No Histograma abaixo podemos ver as categorias:"
   ]
  },
  {
   "cell_type": "code",
   "execution_count": 1,
   "metadata": {},
   "source": [
    "var categoriesHistogram = Chart.Plot(\n",
    "    new Graph.Histogram { x = labels }\n",
    "  );\n",
    "  display(categoriesHistogram);"
   ],
   "outputs": [
    {
     "output_type": "execute_result",
     "data": {
      "text/html": "<div id=\"690a17ad-717b-4e72-929a-033033a8ba12\" style=\"width: 900px; height: 500px;\"></div>\r\n<script type=\"text/javascript\">\r\n\r\nvar renderPlotly = function() {\r\n    var xplotRequire = require.config({context:'xplot-3.0.1',paths:{plotly:'https://cdn.plot.ly/plotly-1.49.2.min'}}) || require;\r\n    xplotRequire(['plotly'], function(Plotly) {\r\n\n            var data = [{\"type\":\"histogram\",\"x\":[\"Infrared\",\"DayLight\",\"Lighter\",\"FlashLight\",\"Infrared\",\"Infrared\",\"DayLight\",\"DayLight\",\"FlashLight\",\"FlashLight\",\"FlashLight\",\"Lighter\",\"FlashLight\",\"DayLight\",\"DayLight\",\"DayLight\",\"FlashLight\",\"FlashLight\",\"Infrared\",\"DayLight\",\"Lighter\",\"FlashLight\",\"DayLight\",\"FlashLight\",\"FlashLight\",\"FlashLight\",\"FlashLight\",\"Infrared\",\"FlashLight\",\"FlashLight\",\"DayLight\",\"FlashLight\",\"DayLight\",\"FlashLight\",\"FlashLight\",\"FlashLight\",\"DayLight\",\"FlashLight\",\"Infrared\",\"FlashLight\",\"Infrared\",\"Infrared\",\"FlashLight\",\"Infrared\",\"FlashLight\",\"Lighter\",\"FlashLight\",\"FlashLight\",\"DayLight\",\"FlashLight\",\"DayLight\",\"DayLight\",\"FlashLight\",\"FlashLight\",\"Infrared\",\"FlashLight\",\"Lighter\",\"FlashLight\",\"Infrared\",\"Infrared\",\"FlashLight\",\"FlashLight\",\"Infrared\",\"FlashLight\",\"DayLight\",\"Lighter\",\"Infrared\",\"FlashLight\",\"DayLight\",\"FlashLight\",\"Lighter\",\"Lighter\",\"FlashLight\",\"DayLight\",\"DayLight\",\"DayLight\",\"FlashLight\",\"FlashLight\",\"DayLight\",\"FlashLight\",\"Lighter\",\"Lighter\",\"FlashLight\",\"DayLight\",\"Infrared\",\"DayLight\",\"Lighter\",\"FlashLight\",\"Lighter\",\"Infrared\",\"Infrared\",\"Infrared\",\"Infrared\",\"Infrared\",\"DayLight\",\"DayLight\",\"FlashLight\",\"DayLight\",\"DayLight\",\"FlashLight\",\"FlashLight\",\"FlashLight\",\"Lighter\",\"Lighter\",\"FlashLight\",\"FlashLight\",\"FlashLight\",\"DayLight\",\"Lighter\",\"Lighter\",\"DayLight\",\"FlashLight\",\"Lighter\",\"Lighter\",\"FlashLight\",\"Lighter\",\"Lighter\",\"DayLight\",\"Infrared\",\"Infrared\",\"FlashLight\",\"Infrared\",\"Infrared\",\"FlashLight\",\"DayLight\",\"Lighter\",\"DayLight\",\"FlashLight\",\"Infrared\",\"Lighter\",\"Infrared\",\"Infrared\",\"DayLight\",\"FlashLight\",\"DayLight\",\"FlashLight\",\"DayLight\",\"Lighter\",\"DayLight\",\"Lighter\",\"FlashLight\",\"DayLight\",\"FlashLight\",\"Lighter\",\"Infrared\",\"FlashLight\",\"FlashLight\",\"Lighter\",\"FlashLight\",\"Infrared\",\"Lighter\",\"Lighter\",\"Infrared\",\"Infrared\",\"Infrared\",\"Infrared\",\"Infrared\",\"DayLight\",\"FlashLight\",\"FlashLight\",\"DayLight\",\"DayLight\",\"FlashLight\",\"Lighter\",\"DayLight\",\"FlashLight\",\"FlashLight\",\"FlashLight\",\"Infrared\",\"Lighter\",\"FlashLight\",\"Lighter\",\"Infrared\",\"FlashLight\",\"FlashLight\",\"Infrared\",\"FlashLight\",\"FlashLight\",\"DayLight\",\"FlashLight\",\"DayLight\",\"DayLight\",\"DayLight\",\"FlashLight\",\"Lighter\",\"DayLight\",\"Infrared\",\"FlashLight\",\"DayLight\",\"FlashLight\",\"Infrared\",\"FlashLight\",\"Infrared\",\"Infrared\",\"Lighter\",\"DayLight\",\"DayLight\",\"FlashLight\",\"Infrared\",\"Lighter\",\"Lighter\",\"Lighter\",\"FlashLight\",\"Infrared\",\"FlashLight\",\"Lighter\",\"FlashLight\",\"FlashLight\",\"FlashLight\",\"DayLight\",\"Infrared\",\"FlashLight\",\"DayLight\",\"Infrared\",\"Lighter\",\"FlashLight\",\"FlashLight\",\"Lighter\",\"DayLight\",\"DayLight\",\"DayLight\",\"Infrared\",\"FlashLight\",\"Lighter\",\"Lighter\",\"DayLight\",\"FlashLight\",\"FlashLight\",\"Lighter\",\"Infrared\",\"FlashLight\",\"Infrared\",\"FlashLight\",\"Infrared\",\"Infrared\",\"Lighter\",\"DayLight\",\"Infrared\",\"Infrared\",\"DayLight\",\"Lighter\",\"Lighter\",\"DayLight\",\"Infrared\",\"DayLight\",\"Lighter\",\"DayLight\",\"FlashLight\",\"Infrared\",\"Infrared\",\"Lighter\",\"FlashLight\",\"DayLight\",\"Infrared\",\"DayLight\",\"Infrared\",\"FlashLight\",\"Infrared\",\"FlashLight\",\"Lighter\",\"FlashLight\",\"Infrared\",\"DayLight\",\"DayLight\",\"FlashLight\",\"FlashLight\",\"FlashLight\",\"DayLight\",\"FlashLight\",\"FlashLight\",\"Lighter\",\"DayLight\",\"FlashLight\",\"Infrared\",\"FlashLight\",\"Infrared\",\"Lighter\",\"FlashLight\",\"FlashLight\",\"Lighter\",\"DayLight\",\"Lighter\",\"FlashLight\",\"FlashLight\",\"Lighter\",\"Lighter\",\"DayLight\",\"Infrared\",\"DayLight\",\"DayLight\",\"Infrared\",\"FlashLight\",\"FlashLight\",\"Infrared\",\"DayLight\",\"Infrared\",\"Infrared\",\"Infrared\",\"DayLight\",\"DayLight\",\"FlashLight\",\"DayLight\",\"DayLight\",\"FlashLight\",\"DayLight\",\"FlashLight\",\"Lighter\",\"Lighter\",\"DayLight\",\"Infrared\",\"DayLight\",\"FlashLight\",\"DayLight\",\"FlashLight\",\"FlashLight\",\"FlashLight\",\"Lighter\",\"Infrared\",\"Lighter\",\"FlashLight\",\"DayLight\",\"Lighter\",\"FlashLight\",\"Lighter\",\"DayLight\",\"DayLight\",\"DayLight\",\"FlashLight\",\"Infrared\",\"Lighter\",\"Lighter\",\"Infrared\",\"FlashLight\",\"FlashLight\",\"DayLight\",\"DayLight\",\"FlashLight\",\"FlashLight\",\"DayLight\",\"Lighter\",\"FlashLight\",\"FlashLight\",\"Infrared\",\"FlashLight\",\"Infrared\",\"FlashLight\",\"DayLight\",\"DayLight\",\"Lighter\",\"Infrared\",\"FlashLight\",\"FlashLight\",\"DayLight\",\"Infrared\",\"Infrared\",\"Lighter\",\"DayLight\",\"Infrared\",\"FlashLight\",\"DayLight\",\"DayLight\",\"FlashLight\",\"DayLight\",\"Lighter\",\"DayLight\",\"DayLight\",\"Infrared\",\"Lighter\",\"FlashLight\",\"DayLight\",\"DayLight\",\"FlashLight\",\"FlashLight\",\"FlashLight\",\"FlashLight\",\"Infrared\",\"DayLight\",\"FlashLight\",\"DayLight\",\"FlashLight\",\"DayLight\",\"Infrared\",\"FlashLight\",\"Lighter\",\"FlashLight\",\"FlashLight\",\"FlashLight\",\"FlashLight\",\"FlashLight\",\"FlashLight\",\"FlashLight\",\"FlashLight\",\"Lighter\",\"FlashLight\",\"Lighter\",\"Lighter\",\"FlashLight\",\"FlashLight\",\"DayLight\",\"DayLight\",\"Infrared\",\"DayLight\",\"FlashLight\",\"Infrared\",\"Infrared\",\"FlashLight\",\"DayLight\",\"DayLight\",\"FlashLight\",\"Lighter\",\"Lighter\",\"FlashLight\",\"FlashLight\",\"FlashLight\",\"DayLight\",\"Infrared\",\"Lighter\",\"DayLight\",\"Infrared\",\"FlashLight\",\"FlashLight\",\"FlashLight\",\"FlashLight\",\"Infrared\",\"Lighter\",\"FlashLight\",\"Infrared\",\"FlashLight\",\"Infrared\",\"FlashLight\",\"DayLight\",\"DayLight\",\"Lighter\",\"Lighter\",\"Lighter\",\"FlashLight\",\"DayLight\",\"Infrared\",\"FlashLight\",\"FlashLight\",\"FlashLight\",\"Lighter\",\"DayLight\",\"Infrared\",\"Lighter\",\"DayLight\",\"DayLight\",\"DayLight\",\"Infrared\",\"Infrared\",\"Lighter\",\"DayLight\",\"Infrared\",\"FlashLight\",\"FlashLight\",\"FlashLight\",\"FlashLight\",\"Lighter\",\"FlashLight\",\"FlashLight\",\"FlashLight\",\"FlashLight\",\"FlashLight\",\"FlashLight\",\"Lighter\",\"Lighter\",\"FlashLight\",\"DayLight\",\"FlashLight\",\"Infrared\",\"FlashLight\",\"DayLight\",\"FlashLight\",\"DayLight\",\"FlashLight\",\"Lighter\",\"Infrared\",\"Lighter\",\"DayLight\",\"Infrared\",\"FlashLight\",\"FlashLight\",\"Lighter\",\"DayLight\",\"DayLight\",\"Lighter\",\"DayLight\",\"FlashLight\",\"FlashLight\",\"Infrared\",\"FlashLight\",\"FlashLight\",\"FlashLight\",\"DayLight\",\"DayLight\",\"FlashLight\",\"FlashLight\",\"FlashLight\",\"Lighter\",\"Infrared\",\"FlashLight\",\"DayLight\",\"DayLight\",\"Lighter\",\"DayLight\",\"FlashLight\",\"Infrared\",\"FlashLight\",\"Lighter\",\"Lighter\",\"FlashLight\",\"Infrared\",\"Lighter\",\"Infrared\",\"Infrared\",\"DayLight\",\"Infrared\",\"FlashLight\",\"DayLight\",\"DayLight\",\"Infrared\",\"FlashLight\",\"FlashLight\",\"DayLight\",\"FlashLight\",\"DayLight\",\"DayLight\",\"DayLight\",\"FlashLight\",\"Lighter\",\"DayLight\",\"DayLight\",\"Lighter\",\"Lighter\",\"FlashLight\",\"FlashLight\",\"DayLight\",\"FlashLight\",\"Lighter\",\"DayLight\",\"DayLight\",\"DayLight\",\"Lighter\",\"DayLight\",\"Infrared\",\"FlashLight\",\"FlashLight\",\"FlashLight\",\"Infrared\",\"FlashLight\",\"FlashLight\",\"Infrared\",\"FlashLight\",\"Lighter\",\"FlashLight\",\"Infrared\",\"Infrared\",\"DayLight\",\"DayLight\",\"FlashLight\",\"DayLight\",\"FlashLight\",\"Lighter\",\"FlashLight\",\"FlashLight\",\"FlashLight\",\"Infrared\",\"Lighter\",\"Infrared\",\"Lighter\",\"FlashLight\",\"FlashLight\",\"FlashLight\",\"FlashLight\",\"DayLight\",\"Infrared\",\"Infrared\",\"FlashLight\",\"FlashLight\",\"FlashLight\",\"FlashLight\",\"DayLight\",\"Lighter\",\"Lighter\",\"Infrared\",\"DayLight\",\"FlashLight\",\"Lighter\",\"FlashLight\",\"DayLight\",\"Infrared\",\"FlashLight\",\"FlashLight\",\"Infrared\",\"Infrared\",\"DayLight\",\"DayLight\",\"Lighter\",\"FlashLight\",\"FlashLight\",\"FlashLight\",\"FlashLight\",\"FlashLight\",\"DayLight\",\"FlashLight\",\"DayLight\",\"DayLight\",\"FlashLight\",\"FlashLight\",\"DayLight\",\"FlashLight\",\"DayLight\",\"Infrared\",\"Lighter\",\"FlashLight\",\"Lighter\",\"FlashLight\",\"DayLight\",\"DayLight\",\"Infrared\",\"FlashLight\",\"Lighter\",\"Infrared\",\"FlashLight\",\"DayLight\",\"DayLight\",\"DayLight\",\"FlashLight\",\"Lighter\",\"DayLight\",\"FlashLight\",\"DayLight\",\"Infrared\",\"DayLight\",\"FlashLight\",\"DayLight\",\"FlashLight\",\"FlashLight\",\"DayLight\",\"DayLight\",\"Infrared\",\"DayLight\",\"Infrared\",\"Lighter\",\"FlashLight\",\"DayLight\",\"Lighter\",\"DayLight\",\"Lighter\",\"FlashLight\",\"DayLight\",\"Infrared\",\"FlashLight\",\"DayLight\",\"DayLight\",\"Lighter\",\"Infrared\",\"FlashLight\",\"DayLight\",\"Lighter\",\"DayLight\",\"Infrared\",\"Infrared\",\"Lighter\",\"Lighter\",\"FlashLight\",\"Lighter\",\"FlashLight\",\"FlashLight\",\"Lighter\",\"Lighter\",\"DayLight\",\"Lighter\",\"FlashLight\",\"Infrared\",\"Lighter\",\"FlashLight\",\"DayLight\",\"Lighter\",\"Lighter\",\"FlashLight\",\"Infrared\",\"Lighter\",\"Lighter\",\"Infrared\",\"Infrared\",\"DayLight\",\"Infrared\",\"Infrared\",\"FlashLight\",\"FlashLight\",\"FlashLight\",\"Infrared\",\"DayLight\",\"FlashLight\",\"Lighter\",\"DayLight\",\"FlashLight\",\"Lighter\",\"FlashLight\",\"Infrared\",\"FlashLight\",\"Infrared\",\"DayLight\",\"FlashLight\",\"FlashLight\",\"Infrared\",\"Lighter\",\"FlashLight\",\"FlashLight\",\"Lighter\",\"Lighter\",\"FlashLight\",\"Lighter\",\"FlashLight\",\"Infrared\",\"FlashLight\",\"DayLight\",\"DayLight\",\"DayLight\",\"FlashLight\",\"Infrared\",\"DayLight\",\"FlashLight\",\"FlashLight\",\"DayLight\",\"DayLight\",\"Infrared\",\"FlashLight\",\"Lighter\",\"DayLight\",\"FlashLight\",\"Infrared\",\"Lighter\",\"DayLight\",\"Lighter\",\"Lighter\",\"DayLight\",\"FlashLight\",\"DayLight\",\"Lighter\",\"Infrared\",\"DayLight\",\"Lighter\",\"DayLight\",\"Infrared\",\"Infrared\",\"DayLight\",\"Infrared\",\"Lighter\",\"Lighter\",\"FlashLight\",\"FlashLight\",\"DayLight\",\"Infrared\",\"Infrared\",\"FlashLight\",\"Lighter\",\"FlashLight\",\"DayLight\",\"DayLight\",\"FlashLight\",\"Lighter\",\"DayLight\",\"FlashLight\",\"FlashLight\",\"Lighter\",\"DayLight\",\"DayLight\",\"FlashLight\",\"FlashLight\",\"DayLight\",\"Lighter\",\"DayLight\",\"Infrared\",\"Lighter\",\"DayLight\",\"FlashLight\",\"FlashLight\",\"DayLight\",\"DayLight\",\"FlashLight\",\"Infrared\",\"Lighter\",\"FlashLight\",\"FlashLight\",\"FlashLight\",\"FlashLight\",\"DayLight\",\"Infrared\",\"Infrared\",\"DayLight\",\"FlashLight\",\"Infrared\",\"FlashLight\",\"FlashLight\",\"DayLight\",\"FlashLight\",\"DayLight\",\"FlashLight\",\"Infrared\",\"FlashLight\",\"DayLight\"]}];\n            var layout = \"\";\n            Plotly.newPlot('690a17ad-717b-4e72-929a-033033a8ba12', data, layout);\n        \r\n});\r\n};\r\n// ensure `require` is available globally\r\nif ((typeof(require) !==  typeof(Function)) || (typeof(require.config) !== typeof(Function))) {\r\n    let require_script = document.createElement('script');\r\n    require_script.setAttribute('src', 'https://cdnjs.cloudflare.com/ajax/libs/require.js/2.3.6/require.min.js');\r\n    require_script.setAttribute('type', 'text/javascript');\r\n    \r\n    \r\n    require_script.onload = function() {\r\n        renderPlotly();\r\n    };\r\n\r\n    document.getElementsByTagName('head')[0].appendChild(require_script);\r\n}\r\nelse {\r\n    renderPlotly();\r\n}\r\n\r\n</script>\r\n"
     },
     "execution_count": 1,
     "metadata": {}
    }
   ]
  },
  {
   "cell_type": "code",
   "execution_count": 1,
   "metadata": {},
   "source": [
    "//  Listagem 2\n",
    "var segmentationDiagram = Chart.Plot(new[] {\n",
    "    new Graph.Box { y = temperatures, name = \"Temperature\" },\n",
    "    new Graph.Box { y = luminosities, name = \"Luminosity\" },\n",
    "    new Graph.Box { y = infrareds, name = \"Infrared\" },\n",
    "    new Graph.Box { y = distances, name = \"Distance\" },\n",
    "    new Graph.Box { y = pirs, name = \"PIR\" },\n",
    "    new Graph.Box { y = humidities, name = \"Humidity\" }\n",
    "});\n",
    "\n",
    "var layout = new Layout.Layout()\n",
    "{\n",
    "    title = \"Box plot segmentation\"\n",
    "};\n",
    "segmentationDiagram.WithLayout(layout);\n",
    "\n",
    "display(segmentationDiagram);"
   ],
   "outputs": [
    {
     "output_type": "execute_result",
     "data": {
      "text/html": "<div id=\"424cbad0-4b7b-4cf4-a8f4-3ac5c3027b5f\" style=\"width: 900px; height: 500px;\"></div>\r\n<script type=\"text/javascript\">\r\n\r\nvar renderPlotly = function() {\r\n    var xplotRequire = require.config({context:'xplot-3.0.1',paths:{plotly:'https://cdn.plot.ly/plotly-1.49.2.min'}}) || require;\r\n    xplotRequire(['plotly'], function(Plotly) {\r\n\n            var data = [{\"type\":\"box\",\"y\":[30.24,25.09,44.0,32.18,32.0,32.5,24.44,25.09,23.48,32.5,21.0,34.43,44.0,32.18,23.63,32.18,32.5,32.5,30.24,32.18,115.0,24.12,32.0,31.21,31.21,31.86,24.12,23.0,31.86,34.43,32.18,32.5,24.77,31.53,21.0,24.12,56.03,32.5,23.0,32.18,25.0,29.92,32.5,30.24,24.44,39.0,22.0,30.0,32.18,23.28,24.44,32.18,32.18,32.5,22.0,31.86,111.0,23.28,23.0,22.0,32.18,23.28,32.18,27.34,24.44,144.0,31.21,27.67,23.96,32.5,90.83,37.0,23.96,32.5,25.09,25.09,32.18,24.28,23.63,23.96,45.0,44.0,24.0,24.77,32.18,32.5,96.63,36.0,42.0,22.0,37.0,32.0,30.24,32.5,24.63,24.77,32.18,24.44,32.18,32.5,32.18,38.0,76.65,36.37,21.0,42.0,32.18,32.18,85.67,78.0,35.72,31.86,144.0,99.0,30.89,65.37,111.0,32.18,23.0,32.0,24.44,32.18,29.92,32.18,24.77,39.0,24.63,32.5,23.0,119.51,32.0,32.5,32.18,32.5,23.63,32.5,32.18,47.0,24.44,44.0,31.86,24.44,23.28,38.0,30.24,24.77,27.34,44.75,20.0,42.0,61.83,95.02,38.0,23.0,22.0,41.0,22.0,32.18,29.0,32.5,24.44,25.63,24.44,39.0,32.18,32.0,24.12,31.21,32.5,99.53,27.67,109.2,25.09,24.44,32.18,30.24,27.34,24.14,24.77,24.14,24.77,32.18,32.18,23.28,47.0,24.44,16.0,31.21,24.6,32.5,22.0,24.14,25.0,42.0,132.4,32.18,23.63,27.67,41.0,48.94,98.24,50.55,29.0,32.0,34.11,36.69,27.34,32.82,28.63,27.67,32.0,32.18,24.44,32.5,36.37,31.21,32.18,101.0,32.18,23.63,25.09,32.0,31.21,38.0,111.0,23.63,32.5,31.86,58.6,25.09,42.0,37.0,32.18,23.0,30.24,47.0,32.18,29.92,22.0,32.18,111.0,90.83,25.41,23.0,32.18,94.05,24.77,27.34,32.0,30.24,32.18,31.21,32.18,22.0,32.18,24.44,24.77,21.0,27.67,45.0,23.48,30.24,32.18,25.09,24.44,27.67,27.34,32.18,32.18,31.86,33.0,25.09,31.86,32.0,27.34,19.0,56.03,24.31,24.77,45.0,24.44,45.0,23.8,38.0,37.0,95.34,32.18,32.18,24.77,32.18,30.24,24.77,27.34,47.0,23.63,32.0,32.0,32.18,24.44,24.77,32.18,32.18,32.18,23.48,32.18,24.12,84.71,33.79,25.09,30.24,32.18,23.8,24.44,27.34,26.0,32.5,88.25,42.0,43.0,27.34,25.09,43.0,38.0,37.01,25.09,24.44,24.5,24.14,30.24,45.0,38.0,20.0,32.5,47.0,25.09,25.09,32.5,27.34,24.44,96.63,32.5,38.0,38.0,27.34,32.18,23.48,32.18,32.18,45.0,39.0,32.5,23.28,32.18,30.24,32.0,42.81,25.41,25.0,45.0,24.44,25.41,44.0,24.12,43.0,24.44,32.18,32.18,88.9,32.5,24.44,32.18,44.0,32.5,41.0,32.18,42.0,32.18,32.5,32.18,39.0,32.18,45.0,27.34,121.0,23.0,39.0,23.0,27.67,23.28,32.5,32.5,41.0,36.37,42.0,102.43,38.95,31.86,27.99,32.18,25.41,32.0,25.09,32.5,44.0,45.0,27.0,24.31,32.0,32.18,45.0,121.0,24.77,31.86,38.0,32.18,22.0,112.0,24.44,30.24,31.21,27.67,24.77,32.5,20.0,44.0,31.53,23.0,21.0,30.24,31.21,25.09,32.18,38.0,47.0,131.0,32.18,32.18,32.18,37.0,32.18,31.53,74.07,24.44,32.18,35.08,23.63,25.09,32.18,23.0,18.0,69.56,24.44,32.0,32.18,32.18,44.0,24.0,88.0,24.77,45.0,24.92,31.86,32.18,25.82,41.0,37.0,24.77,24.77,27.34,25.0,32.18,32.18,27.0,32.18,24.12,63.12,32.5,35.4,24.44,30.24,31.21,27.34,44.0,32.5,25.09,45.0,32.18,27.67,23.0,23.0,42.0,23.28,24.77,32.18,64.05,24.77,24.82,23.48,45.0,37.0,23.48,24.12,32.18,46.0,32.18,23.28,41.0,32.18,45.07,112.0,24.77,32.0,89.22,25.0,24.12,24.77,23.0,31.53,24.14,31.86,29.6,27.34,32.5,24.77,47.0,25.09,32.18,32.18,32.5,131.0,32.18,32.18,37.0,101.0,42.0,32.5,32.18,32.18,88.0,32.18,25.09,25.09,37.0,24.12,30.24,23.0,32.5,32.18,16.0,28.0,32.5,42.0,32.5,44.0,30.89,30.24,19.0,25.09,27.34,29.0,52.16,44.0,87.29,22.0,27.34,32.18,26.0,112.0,22.0,101.79,31.21,31.86,27.34,33.14,32.18,42.0,32.18,24.44,24.14,31.21,39.0,25.09,88.9,32.82,39.0,34.76,32.0,34.76,45.0,24.77,30.24,32.5,32.18,32.18,22.0,24.82,24.77,39.0,25.14,23.48,32.5,32.5,32.5,32.18,32.5,24.63,30.24,24.44,31.86,32.18,23.0,25.09,30.24,46.0,24.77,37.0,39.0,32.18,25.09,32.5,27.67,91.15,32.0,32.5,25.09,32.18,25.09,31.53,110.49,32.5,32.18,25.09,39.0,25.09,32.5,25.09,41.0,32.5,32.18,25.09,42.0,24.63,23.0,75.68,32.5,27.67,46.0,25.09,144.0,24.44,24.44,22.0,32.5,31.86,32.18,47.0,24.38,32.5,32.18,50.87,25.09,32.5,23.0,99.0,97.28,31.86,44.0,27.34,32.5,109.52,107.59,32.18,32.5,32.5,32.0,44.0,28.0,23.63,81.81,36.37,27.34,30.24,44.0,44.0,30.24,23.0,32.18,29.92,25.0,32.5,23.48,23.8,32.18,25.09,32.18,112.0,32.18,24.0,45.0,23.96,42.0,27.34,29.92,24.86,31.21,31.86,23.48,94.05,23.28,32.5,109.52,47.0,32.18,32.18,27.67,30.24,27.67,24.63,24.63,32.18,32.5,23.0,32.18,23.96,32.18,25.09,24.12,30.24,32.18,95.66,25.09,27.99,30.57,73.43,24.12,153.35,45.0,25.09,23.48,32.18,98.24,32.0,25.09,42.0,24.77,32.5,32.18,31.86,19.0,108.55,32.5,38.0,31.21,32.18,22.0,32.5,32.5,131.0,42.0,32.18,31.53,27.34,88.0,25.09,27.34,32.5,111.0,24.63,25.09,32.5,25.0,32.18,70.85,25.09,32.0,43.13,25.09,32.18,27.34,32.18,32.18,31.21,19.0,131.0,24.44,31.21,31.86,31.86,24.44,30.24,23.0,24.77,23.8,32.18,24.28,28.63,24.63,31.86,32.18,39.0,30.24,23.28,25.09],\"name\":\"Temperature\"},{\"type\":\"box\",\"y\":[11.52,12.11,52.0,78.91,11.72,28.52,25.49,12.11,93.16,56.93,47.0,100.0,23.0,6.25,4.1,5.86,60.64,63.96,10.25,4.39,100.0,100.0,19.34,69.14,77.83,66.8,69.14,36.52,57.52,100.0,6.54,61.33,11.91,71.58,49.0,79.49,100.0,98.14,23.0,46.19,35.74,20.61,64.94,11.72,83.5,22.0,46.0,48.0,7.32,55.57,25.49,5.66,32.23,52.44,20.0,100.0,100.0,26.46,21.09,22.75,39.55,60.25,30.96,73.63,26.46,100.0,36.33,71.78,4.1,100.0,100.0,18.0,9.08,4.59,12.21,12.3,48.24,45.0,5.47,8.98,59.0,100.0,47.0,12.5,38.67,19.43,100.0,19.0,53.0,16.0,22.0,30.08,24.32,27.44,4.1,8.2,80.57,25.78,4.2,85.16,69.53,22.0,100.0,100.0,47.0,23.0,64.16,5.37,100.0,100.0,100.0,65.82,100.0,100.0,73.44,100.0,100.0,6.93,35.84,31.64,82.32,17.19,27.44,55.86,26.46,20.0,4.1,60.64,22.0,100.0,35.84,22.75,4.69,52.83,4.3,48.83,5.08,23.0,26.46,54.0,27.93,25.49,66.5,22.0,28.52,83.3,70.7,88.77,41.0,20.0,100.0,100.0,16.0,26.76,18.75,23.0,18.36,4.49,43.0,90.04,24.41,4.1,80.27,18.0,6.25,100.0,84.77,74.9,37.89,100.0,75.59,100.0,35.94,63.18,41.6,35.94,69.82,100.0,12.21,50.29,11.43,4.59,4.39,61.62,24.0,25.88,22.0,72.27,6.05,100.0,35.16,50.1,36.52,19.0,100.0,25.1,4.1,73.05,19.0,100.0,100.0,100.0,48.0,35.35,82.81,100.0,70.02,64.55,74.9,76.17,46.29,65.72,25.39,28.81,100.0,33.89,58.2,100.0,4.39,4.1,11.91,25.49,60.16,20.0,100.0,4.1,85.84,50.39,100.0,35.74,20.0,23.0,97.56,19.73,31.64,16.0,6.35,33.01,20.0,4.39,100.0,100.0,11.91,34.86,18.16,100.0,10.74,71.48,20.51,63.96,100.0,42.58,6.15,34.86,4.79,24.9,81.35,19.0,73.05,55.0,84.77,41.89,5.18,12.01,89.55,75.0,73.73,5.57,100.0,68.46,100.0,12.01,9.57,32.81,70.31,23.0,100.0,37.99,64.06,16.0,25.49,20.0,88.67,22.0,23.0,100.0,5.86,8.59,12.4,4.98,30.96,86.23,73.83,22.0,4.3,41.7,27.25,38.96,25.88,17.48,52.64,6.15,4.3,79.0,5.18,81.54,100.0,100.0,13.09,23.83,4.2,65.62,25.88,73.34,48.0,54.79,100.0,22.0,54.0,73.83,12.11,19.0,23.0,100.0,12.6,25.39,8.11,100.0,32.71,22.0,16.0,23.0,76.76,18.0,12.79,11.13,64.84,72.27,25.68,100.0,100.0,18.0,19.0,70.31,15.04,83.59,12.5,5.27,55.0,19.0,79.69,9.08,54.39,27.05,35.06,100.0,11.33,27.83,22.0,12.6,11.43,22.0,77.05,56.0,26.56,6.25,32.23,100.0,54.88,25.98,6.64,22.0,88.38,18.0,42.58,23.0,4.69,43.65,4.88,19.0,6.64,23.0,74.02,100.0,100.0,18.0,49.0,71.78,45.51,70.7,61.62,22.0,100.0,19.0,100.0,100.0,29.39,74.51,4.49,11.82,14.36,12.6,72.07,22.0,23.0,40.0,3.91,41.31,68.46,23.0,100.0,69.14,60.16,19.0,4.98,18.0,100.0,26.56,33.59,37.99,75.0,87.11,94.14,23.0,51.0,78.03,18.07,43.0,34.77,59.08,11.33,6.84,23.0,20.0,100.0,42.97,4.49,24.9,18.0,33.11,86.72,100.0,26.46,27.05,100.0,4.1,12.6,5.76,19.0,18.0,100.0,25.98,35.94,50.0,78.81,22.0,41.0,100.0,88.38,20.0,45.7,68.75,57.81,48.05,23.0,16.0,68.85,18.55,74.32,24.51,71.48,4.98,44.0,4.98,54.79,100.0,34.47,100.0,25.98,44.53,5.47,72.95,54.0,4.59,11.91,23.0,6.35,73.24,100.0,35.06,22.0,69.04,64.06,5.37,97.46,82.13,50.49,95.31,54.0,19.0,87.6,24.9,6.15,54.0,4.88,57.32,19.0,37.11,100.0,82.32,60.94,31.74,100.0,33.69,34.18,14.06,19.0,68.07,42.87,4.98,10.06,71.97,100.0,26.46,18.0,12.3,54.3,6.54,85.84,66.8,7.62,5.76,18.0,100.0,23.0,100.0,4.3,100.0,100.0,6.64,11.91,11.91,16.0,25.88,44.53,49.0,72.66,61.13,22.0,49.0,28.32,23.0,91.31,100.0,74.41,11.13,20.0,12.01,75.29,70.02,100.0,20.0,100.0,100.0,70.7,58.2,23.0,100.0,36.52,100.0,58.69,42.68,71.88,100.0,6.25,22.0,11.72,100.0,62.4,34.67,19.0,12.11,100.0,100.0,23.0,9.47,100.0,100.0,19.0,12.6,21.97,100.0,52.05,32.23,35.06,6.54,13.96,22.0,49.32,83.69,82.81,88.28,73.14,6.25,34.67,4.2,26.56,67.58,49.12,6.64,100.0,12.11,5.18,54.0,89.26,18.0,22.0,6.64,12.3,52.83,76.17,100.0,35.45,59.57,11.82,5.08,12.3,71.09,100.0,4.49,17.68,12.99,19.0,12.4,74.41,12.11,22.0,95.31,11.04,12.11,19.0,4.1,23.0,100.0,86.33,73.63,57.0,11.91,100.0,95.61,25.49,22.0,83.01,4.69,4.98,18.0,18.26,72.27,4.98,100.0,12.11,16.11,21.97,100.0,100.0,60.06,23.0,71.97,53.52,100.0,100.0,7.13,100.0,57.03,35.64,18.0,46.0,4.1,100.0,100.0,73.54,64.16,23.0,18.0,55.57,21.58,6.05,25.39,20.0,60.55,90.33,61.91,24.61,12.3,55.37,100.0,7.03,44.0,56.0,7.71,19.0,74.61,30.08,7.03,32.42,100.0,25.59,100.0,30.47,79.79,100.0,56.0,33.59,55.08,75.59,26.17,73.24,4.1,4.1,4.1,50.78,19.14,14.55,10.64,73.54,12.4,24.9,29.2,50.29,100.0,13.18,74.51,25.78,100.0,25.88,100.0,16.0,12.11,84.67,5.76,100.0,48.54,12.11,23.0,25.59,12.6,12.89,4.2,20.0,100.0,100.0,19.0,56.64,4.49,21.0,25.0,54.69,100.0,18.0,6.74,59.86,73.54,100.0,11.04,72.27,42.29,100.0,4.2,11.82,56.74,45.0,5.27,100.0,12.3,29.1,100.0,10.94,95.02,73.34,5.96,6.84,55.08,18.0,100.0,84.77,70.7,56.35,48.54,12.4,18.65,22.0,11.82,66.41,29.59,14.45,74.9,4.0,45.12,6.64,23.0,27.34,54.1,12.01],\"name\":\"Luminosity\"},{\"type\":\"box\",\"y\":[1.95,0.0,13.0,0.0,19.43,43.85,0.0,0.0,0.0,0.0,14.0,93.95,8.0,0.0,0.0,0.0,0.0,0.0,49.12,0.0,43.85,0.0,91.31,0.0,0.0,0.0,0.0,95.41,0.0,0.0,0.0,0.0,0.0,0.0,13.0,0.0,95.31,0.0,20.0,0.0,95.12,32.32,0.0,15.53,0.0,7.0,16.0,14.0,0.0,0.0,0.0,0.0,0.0,0.0,23.0,0.0,93.46,0.0,94.34,93.55,0.0,0.0,48.63,0.0,0.0,91.5,14.94,0.0,0.0,0.0,92.48,13.0,0.0,0.0,0.0,0.0,0.0,0.0,0.0,0.0,15.0,95.41,16.0,0.0,20.61,0.0,45.9,7.0,16.0,22.0,8.0,26.95,30.57,33.69,0.0,0.0,0.0,0.0,0.0,0.0,0.0,14.0,93.36,94.92,16.0,8.0,0.0,0.0,92.38,95.9,95.31,0.0,95.31,93.95,0.0,93.16,93.65,0.0,95.41,0.1,0.0,28.71,24.22,0.0,0.0,6.0,0.0,0.0,23.0,95.8,95.41,89.94,0.0,0.0,0.0,0.0,0.0,12.0,0.0,17.0,0.0,0.0,0.0,10.0,25.68,0.0,0.0,94.92,17.0,9.0,91.02,42.38,8.0,94.14,55.0,8.0,11.72,0.0,12.0,0.0,0.0,0.0,0.0,7.0,0.0,0.0,0.0,0.0,71.09,42.97,0.0,65.0,94.92,0.0,0.0,11.72,0.0,0.0,0.0,0.0,0.0,0.0,0.0,0.0,11.0,0.0,20.0,0.0,0.0,0.0,95.31,0.0,95.21,9.0,41.31,0.0,0.0,0.0,8.0,93.26,50.68,91.21,12.0,30.86,0.0,95.21,0.0,0.0,0.0,0.0,25.68,0.0,0.0,8.98,93.55,0.0,0.0,95.31,0.0,0.0,0.0,31.15,0.0,12.0,95.21,0.0,0.0,0.0,95.21,95.02,14.0,13.0,0.0,95.21,42.19,10.0,0.0,34.28,22.0,0.0,96.78,93.65,0.0,22.0,0.0,49.71,0.0,0.0,31.84,93.46,95.31,0.0,0.0,94.92,0.0,77.83,0.0,20.0,0.0,15.0,0.0,12.5,0.0,0.0,0.0,0.0,0.0,0.0,0.0,0.0,91.7,0.0,0.0,22.56,0.0,19.0,92.29,0.0,0.0,9.0,0.0,6.0,0.0,8.0,7.0,94.73,0.0,2.44,0.0,0.0,38.18,0.0,0.0,14.0,0.0,93.65,94.04,16.31,0.0,0.0,0.0,0.0,0.0,0.0,0.0,0.0,95.51,93.55,0.0,27.44,0.0,0.0,0.0,0.0,18.0,0.0,42.38,12.0,14.0,0.0,0.0,11.0,8.0,94.53,0.0,0.0,0.0,0.0,12.11,11.0,6.0,20.0,0.0,5.0,0.0,0.0,0.0,0.0,0.0,45.9,0.0,8.0,7.0,0.0,68.55,0.0,18.75,0.0,17.0,8.0,0.0,0.0,0.0,33.2,2.93,93.26,0.0,93.07,7.0,0.0,0.0,7.0,0.0,14.0,0.0,0.0,30.86,95.41,0.0,0.0,0.0,12.0,0.0,11.0,0.0,11.0,0.0,0.0,0.0,6.0,0.0,8.0,0.0,93.16,0.0,11.0,19.0,0.0,0.0,0.0,0.0,12.0,94.92,13.0,93.65,95.12,0.0,0.0,0.0,0.0,43.16,0.0,0.0,14.0,11.0,14.0,0.0,13.87,0.0,13.0,95.31,0.0,0.0,12.0,0.0,19.0,67.09,0.0,36.82,0.0,0.0,0.0,0.0,18.0,15.0,0.0,25.0,14.0,0.0,0.0,0.0,0.0,10.0,13.0,94.43,0.0,0.0,37.5,9.0,0.0,0.0,94.34,0.0,93.55,94.04,0.0,0.0,0.0,23.0,22.0,94.63,0.0,94.92,0.0,0.0,14.0,13.0,93.55,0.0,12.0,0.0,0.0,0.0,0.0,13.0,5.0,0.0,0.0,0.0,93.75,0.0,0.0,14.0,0.0,0.0,95.51,92.38,92.68,0.0,10.74,0.0,0.0,14.0,0.0,0.0,5.0,0.0,0.0,0.0,95.12,10.0,0.0,0.0,0.0,96.0,0.0,0.0,0.0,12.0,8.0,0.0,0.0,0.0,13.0,0.0,0.0,8.0,0.0,95.41,95.21,0.0,43.75,93.07,94.63,95.51,0.0,16.0,0.0,0.0,0.0,26.17,0.0,0.0,0.0,7.0,0.0,0.0,0.0,0.0,86.72,0.0,0.0,11.0,92.97,14.0,0.0,0.0,0.0,96.48,0.0,0.0,0.0,10.0,0.0,27.73,12.0,0.0,0.0,16.0,19.0,0.0,11.0,0.0,95.21,0.0,49.02,19.0,0.0,0.0,0.0,94.53,8.0,93.85,0.0,0.0,0.0,20.0,94.92,95.41,45.9,0.0,0.0,0.0,0.0,0.0,11.0,15.43,0.0,0.0,0.0,10.0,0.0,42.38,95.02,12.0,0.0,0.0,94.04,7.0,0.0,91.8,0.0,0.0,46.09,23.0,0.0,0.0,5.0,0.0,0.0,0.0,0.0,0.0,0.0,0.0,0.0,23.24,0.0,0.0,0.0,0.0,0.0,3.0,15.0,0.0,6.0,14.0,0.0,0.0,21.78,0.0,95.51,94.92,0.0,0.0,0.0,0.0,0.0,78.0,0.0,0.0,0.0,9.0,0.0,0.0,0.0,8.0,0.0,0.0,0.0,12.0,0.0,20.0,94.63,0.0,0.0,14.0,0.0,96.48,0.0,0.0,16.0,0.0,0.0,0.0,7.0,33.0,0.0,0.0,95.12,0.0,30.86,72.27,92.58,93.26,0.0,9.0,0.0,0.0,49.22,56.0,0.0,93.36,0.0,26.95,8.0,13.0,0.0,93.65,95.21,0.0,85.45,9.0,9.0,50.68,70.51,0.0,31.64,20.0,0.0,0.0,0.0,28.81,0.0,0.0,95.21,0.0,14.0,18.0,0.0,13.0,0.0,31.93,0.0,0.0,0.0,94.63,49.71,0.0,0.0,49.22,15.0,0.0,94.34,0.0,46.29,0.0,0.0,0.0,0.0,0.0,93.36,0.0,0.0,0.0,0.0,0.0,21.88,0.0,42.97,0.0,0.0,29.3,95.31,0.0,94.82,10.0,0.0,0.0,0.0,94.34,26.37,0.0,6.0,0.0,76.46,41.31,0.0,23.0,93.16,95.21,8.0,0.0,0.0,51.56,33.89,0.0,95.21,5.0,0.0,0.0,0.0,94.53,0.0,0.0,0.0,95.41,0.0,0.0,0.0,15.0,0.0,95.31,0.0,39.06,92.97,0.0,0.0,0.0,0.0,0.0,0.0,22.0,95.02,0.0,0.0,0.0,0.0,0.0,36.72,18.0,0.0,0.0,43.85,0.0,0.0,0.0,0.0,0.0,8.0,35.84,0.0,0.0],\"name\":\"Infrared\"},{\"type\":\"box\",\"y\":[54.18,400.0,32.0,32.0,19.16,52.37,400.0,400.0,73.86,33.0,46.0,33.0,54.0,76.22,400.0,400.0,66.07,64.98,57.06,400.0,15.0,43.0,43.0,32.0,58.82,32.0,64.0,32.0,32.0,55.0,82.61,22.83,400.0,21.0,46.0,22.0,22.0,65.32,49.0,50.02,24.0,59.7,17.1,400.0,68.91,47.0,55.0,47.0,400.0,156.15,400.0,400.0,31.24,50.44,54.0,20.1,16.0,155.8,104.0,12.0,56.85,10.11,60.05,45.0,400.0,21.0,58.61,67.0,400.0,32.0,12.0,47.0,154.89,400.0,400.0,400.0,22.17,154.08,400.0,400.0,21.0,22.0,51.0,400.0,59.0,400.0,32.0,49.0,24.0,45.0,49.0,32.0,59.85,54.0,111.0,400.0,211.0,400.0,71.72,66.31,61.2,51.0,18.0,42.18,46.0,45.0,64.48,400.0,40.68,15.0,33.0,43.0,22.0,12.0,24.32,43.0,22.0,400.0,67.0,45.0,55.0,60.36,121.0,43.0,400.0,47.0,400.0,21.0,47.0,17.0,21.0,56.2,400.0,34.0,400.0,21.0,400.0,51.0,193.73,24.0,25.62,193.75,11.26,49.0,57.68,64.68,88.0,21.0,51.0,49.0,12.0,17.0,49.0,23.0,99.0,45.0,201.0,400.0,46.0,64.47,400.0,400.0,65.0,45.0,400.0,57.4,67.14,20.44,45.0,12.0,400.0,4.28,193.4,56.0,61.0,62.67,77.0,400.0,400.0,8.52,400.0,400.0,400.0,10.37,45.0,400.0,49.0,21.0,111.0,56.06,32.0,9.42,23.0,51.0,4.0,400.0,400.0,78.0,54.0,7.56,15.0,21.0,55.0,22.0,53.59,34.0,44.0,54.29,23.0,34.0,43.0,55.0,400.0,56.18,7.52,400.0,61.42,16.0,400.0,400.0,400.0,34.0,60.46,49.0,7.1,400.0,62.4,26.73,19.0,45.0,54.0,47.0,19.49,21.85,54.0,54.0,400.0,17.91,45.0,400.0,22.0,17.0,400.0,193.4,107.1,15.0,400.0,87.0,23.0,45.0,33.0,19.6,400.0,32.0,400.0,11.0,73.78,49.0,34.0,25.0,33.0,57.2,400.0,400.0,68.42,56.0,23.0,400.0,57.64,60.77,41.84,400.0,59.47,43.0,12.0,45.0,12.0,154.1,55.0,45.0,400.0,51.0,34.0,49.0,51.0,7.9,400.0,60.75,400.0,400.0,57.5,66.11,32.0,51.0,400.0,21.0,32.0,55.94,400.0,400.0,59.05,400.0,70.24,54.0,76.24,37.69,6.34,22.0,400.0,59.15,400.0,33.0,193.78,54.0,49.0,59.11,17.0,49.0,22.0,89.0,400.0,54.0,47.0,44.0,400.0,400.0,400.0,7.48,76.0,51.0,51.0,54.0,400.0,47.0,400.0,77.03,23.0,33.0,400.0,14.0,54.0,49.0,47.0,66.0,59.97,76.0,59.74,400.0,24.0,47.0,65.26,14.8,54.0,43.0,19.5,22.0,400.0,19.04,47.0,89.11,400.0,47.0,55.0,22.0,400.0,400.0,57.72,22.0,32.0,400.0,400.0,47.0,111.0,49.0,58.1,49.0,400.0,4.0,400.0,49.0,400.0,47.0,56.0,21.0,22.0,49.0,46.0,44.0,12.08,34.0,25.47,45.0,46.4,54.0,14.0,21.0,60.21,78.0,74.86,400.0,60.86,343.0,66.73,47.0,47.0,47.0,5.13,22.0,28.33,49.0,21.0,65.0,28.38,49.0,400.0,45.0,6.76,400.0,65.0,54.0,67.0,68.15,49.1,49.0,31.0,57.68,111.0,47.0,66.0,61.92,400.0,400.0,51.0,54.0,22.0,54.0,400.0,54.0,45.0,34.0,43.0,15.0,193.75,60.14,19.0,400.0,400.0,400.0,54.0,51.0,16.0,400.0,22.0,43.43,19.25,54.0,51.0,32.0,400.0,47.0,6.45,27.28,61.76,9.85,45.0,47.0,34.0,400.0,43.0,18.08,13.73,400.0,49.0,400.0,43.0,23.0,56.79,29.0,194.66,55.44,60.47,23.0,24.0,400.0,400.0,49.0,400.0,193.4,33.0,78.0,47.0,10.39,71.52,400.0,14.0,66.19,8.84,73.24,26.0,49.0,25.0,400.0,400.0,25.0,400.0,9.62,49.0,49.91,23.0,34.0,78.83,34.0,22.0,19.56,12.0,400.0,47.0,59.49,6.79,400.0,57.48,56.0,65.28,194.58,51.0,55.0,400.0,400.0,66.0,5.12,400.0,400.0,49.0,19.0,51.0,32.0,400.0,16.5,12.0,75.12,400.0,400.0,49.0,400.0,58.95,51.0,43.0,112.0,51.0,54.0,30.7,51.0,64.26,22.0,54.0,61.88,49.0,400.0,23.0,45.0,22.0,45.0,23.0,56.12,400.0,20.8,49.0,15.0,56.0,12.0,22.4,61.78,23.0,55.43,400.0,49.0,60.87,10.78,8.8,34.0,51.0,400.0,21.0,22.0,47.0,70.31,59.4,10.77,45.0,400.0,60.46,66.92,50.82,56.59,199.0,400.0,400.0,45.0,9.84,63.88,55.49,60.42,64.25,400.0,49.57,200.0,60.46,32.0,32.0,400.0,49.92,400.0,65.0,23.0,67.07,47.0,45.0,400.0,400.0,45.0,67.0,19.0,22.0,21.35,400.0,400.0,55.0,32.0,5.73,400.0,59.21,400.0,45.0,400.0,57.95,400.0,49.0,113.0,400.0,92.82,47.0,154.51,45.0,22.0,77.0,65.0,24.0,400.0,15.0,69.64,193.73,54.0,24.47,400.0,400.0,54.0,154.89,66.87,400.0,22.0,400.0,61.79,400.0,8.4,19.0,61.42,49.0,55.0,43.0,21.0,4.28,222.0,24.0,65.0,32.0,49.0,47.0,400.0,12.0,32.0,56.0,60.02,47.0,49.0,55.0,122.0,400.0,60.43,50.0,63.72,11.61,56.0,61.26,400.0,43.0,21.0,400.0,49.0,26.0,155.39,45.0,45.0,60.96,400.0,23.01,32.0,19.84,21.0,154.91,64.22,13.0,23.0,22.17,22.0,34.0,57.48,34.0,400.0,400.0,400.0,400.0,44.0,400.0,154.98,70.2,400.0,400.0,57.16,23.0,22.0,400.0,67.0,57.5,22.0,400.0,13.0,51.0,400.0,54.0,400.0,22.0,12.0,400.0,51.0,400.0,53.76,59.06,400.0,47.0,7.0,32.0,49.0,54.0,400.0,55.0,56.2,58.89,21.0,49.0,400.0,25.22,76.0,23.0,400.0,45.0,47.8,6.76,400.0,77.05,35.34,50.0,400.0,14.0,400.0,12.0,23.0,400.0,44.0,78.0,70.74,400.0,64.37,47.0,23.0,66.15,43.0,61.91,61.12,400.0,60.04,53.0,400.0,32.0,34.0,17.49,89.0,400.0,45.0,400.0,49.0,60.11,156.99,400.0],\"name\":\"Distance\"},{\"type\":\"box\",\"y\":[0.0,0.0,0.0,0.0,0.0,0.0,0.0,0.0,1.0,0.0,0.0,1.0,1.0,0.0,0.0,1.0,0.0,0.0,1.0,1.0,0.0,1.0,0.0,1.0,0.0,0.0,1.0,1.0,0.0,1.0,0.0,0.0,0.0,1.0,0.0,1.0,1.0,1.0,0.0,0.0,1.0,0.0,1.0,0.0,0.0,1.0,0.0,0.0,0.0,1.0,0.0,0.0,1.0,1.0,1.0,0.0,0.0,0.0,1.0,1.0,0.0,1.0,0.0,1.0,1.0,0.0,1.0,0.0,0.0,0.0,0.0,0.0,0.0,0.0,0.0,0.0,1.0,0.0,0.0,0.0,0.0,1.0,0.0,0.0,0.0,0.0,0.0,0.0,0.0,0.0,1.0,0.0,0.0,0.0,1.0,0.0,0.0,0.0,1.0,1.0,0.0,0.0,1.0,0.0,0.0,1.0,0.0,0.0,0.0,0.0,0.0,1.0,1.0,0.0,0.0,0.0,0.0,0.0,0.0,1.0,0.0,0.0,0.0,0.0,1.0,1.0,1.0,0.0,0.0,1.0,0.0,1.0,1.0,1.0,0.0,1.0,0.0,0.0,1.0,0.0,1.0,0.0,1.0,1.0,1.0,1.0,1.0,1.0,0.0,0.0,0.0,0.0,0.0,1.0,0.0,1.0,1.0,0.0,0.0,1.0,0.0,1.0,1.0,0.0,0.0,1.0,0.0,1.0,1.0,0.0,0.0,0.0,0.0,1.0,1.0,0.0,0.0,0.0,1.0,1.0,0.0,0.0,1.0,1.0,0.0,0.0,1.0,1.0,0.0,0.0,1.0,0.0,0.0,1.0,1.0,0.0,0.0,0.0,0.0,0.0,0.0,1.0,1.0,0.0,0.0,0.0,1.0,1.0,1.0,1.0,1.0,0.0,0.0,0.0,0.0,1.0,1.0,0.0,0.0,0.0,0.0,0.0,0.0,1.0,0.0,0.0,0.0,1.0,1.0,0.0,0.0,0.0,0.0,0.0,1.0,1.0,1.0,1.0,0.0,0.0,0.0,0.0,0.0,0.0,0.0,1.0,0.0,0.0,0.0,1.0,0.0,0.0,1.0,0.0,0.0,1.0,0.0,0.0,0.0,0.0,1.0,1.0,0.0,1.0,0.0,1.0,0.0,0.0,0.0,1.0,1.0,1.0,0.0,1.0,0.0,0.0,0.0,1.0,0.0,0.0,0.0,0.0,1.0,0.0,1.0,0.0,0.0,1.0,0.0,0.0,0.0,1.0,0.0,0.0,0.0,0.0,0.0,0.0,0.0,0.0,1.0,0.0,0.0,1.0,0.0,0.0,0.0,0.0,1.0,0.0,0.0,1.0,0.0,0.0,1.0,1.0,1.0,0.0,1.0,0.0,0.0,1.0,1.0,0.0,1.0,0.0,0.0,0.0,0.0,0.0,0.0,0.0,1.0,1.0,0.0,0.0,0.0,0.0,0.0,0.0,1.0,1.0,1.0,0.0,1.0,1.0,1.0,0.0,1.0,0.0,1.0,0.0,1.0,0.0,0.0,1.0,0.0,1.0,1.0,0.0,0.0,0.0,1.0,0.0,1.0,0.0,1.0,1.0,1.0,1.0,1.0,0.0,1.0,0.0,1.0,0.0,0.0,0.0,1.0,1.0,0.0,1.0,1.0,0.0,0.0,0.0,1.0,0.0,0.0,0.0,0.0,1.0,1.0,0.0,1.0,1.0,1.0,1.0,0.0,0.0,0.0,1.0,0.0,1.0,1.0,1.0,0.0,1.0,0.0,1.0,1.0,1.0,1.0,0.0,0.0,1.0,1.0,0.0,1.0,0.0,1.0,1.0,0.0,0.0,0.0,1.0,1.0,0.0,0.0,1.0,1.0,0.0,1.0,1.0,0.0,0.0,0.0,0.0,1.0,1.0,0.0,0.0,0.0,0.0,1.0,0.0,0.0,0.0,0.0,0.0,1.0,0.0,0.0,0.0,1.0,0.0,0.0,0.0,0.0,1.0,1.0,1.0,0.0,1.0,1.0,0.0,1.0,0.0,0.0,1.0,0.0,1.0,0.0,0.0,1.0,1.0,0.0,0.0,0.0,0.0,0.0,0.0,0.0,1.0,0.0,1.0,1.0,0.0,1.0,0.0,0.0,1.0,0.0,1.0,1.0,1.0,0.0,1.0,1.0,0.0,0.0,0.0,0.0,1.0,1.0,1.0,0.0,0.0,1.0,1.0,1.0,0.0,0.0,0.0,1.0,1.0,1.0,1.0,1.0,1.0,1.0,0.0,1.0,1.0,0.0,0.0,0.0,0.0,1.0,0.0,1.0,1.0,0.0,0.0,1.0,0.0,0.0,1.0,1.0,0.0,0.0,0.0,0.0,1.0,0.0,0.0,0.0,0.0,0.0,0.0,1.0,0.0,1.0,0.0,1.0,0.0,0.0,1.0,0.0,1.0,0.0,0.0,0.0,0.0,1.0,0.0,0.0,0.0,1.0,0.0,0.0,0.0,0.0,0.0,0.0,0.0,1.0,1.0,0.0,0.0,0.0,0.0,0.0,0.0,0.0,0.0,1.0,1.0,0.0,0.0,1.0,1.0,0.0,0.0,0.0,0.0,1.0,0.0,1.0,0.0,0.0,0.0,1.0,0.0,1.0,0.0,1.0,1.0,1.0,1.0,1.0,0.0,0.0,0.0,0.0,1.0,1.0,1.0,0.0,0.0,0.0,1.0,0.0,1.0,0.0,0.0,0.0,0.0,0.0,1.0,1.0,0.0,0.0,1.0,0.0,0.0,0.0,0.0,0.0,0.0,0.0,0.0,0.0,0.0,1.0,0.0,1.0,1.0,1.0,0.0,0.0,0.0,0.0,1.0,0.0,0.0,0.0,1.0,1.0,0.0,0.0,1.0,1.0,1.0,0.0,1.0,1.0,0.0,1.0,0.0,0.0,1.0,0.0,0.0,0.0,1.0,0.0,0.0,1.0,0.0,0.0,1.0,0.0,1.0,1.0,0.0,1.0,0.0,0.0,1.0,1.0,1.0,1.0,0.0,0.0,1.0,0.0,1.0,1.0,0.0,0.0,0.0,0.0,0.0,0.0,1.0,1.0,0.0,0.0,1.0,1.0,1.0,1.0,0.0,0.0,0.0,0.0,0.0,0.0,0.0,0.0,1.0,0.0,0.0,0.0,0.0,0.0,0.0,1.0,0.0,0.0,1.0,0.0,1.0,0.0,1.0,0.0,1.0,1.0,1.0,0.0,0.0,0.0,0.0,0.0,1.0,0.0,1.0,1.0,0.0,1.0,0.0,0.0,0.0,1.0,1.0,0.0,1.0,0.0,0.0,0.0,1.0,0.0,0.0,0.0,0.0,0.0,0.0,0.0,0.0,1.0,1.0,0.0,0.0,1.0,0.0,0.0,0.0,0.0,0.0,0.0,1.0,1.0,0.0,0.0,1.0,1.0,0.0,0.0,0.0,1.0,0.0,1.0,0.0,0.0,1.0,0.0,1.0,0.0,1.0,0.0,0.0,0.0],\"name\":\"PIR\"},{\"type\":\"box\",\"y\":[13.0,12.0,12.0,11.0,11.0,13.0,11.0,11.0,13.0,13.0,12.0,13.0,12.0,12.0,13.0,13.0,13.0,12.0,13.0,12.0,13.0,12.0,13.0,12.0,13.0,13.0,11.0,11.0,12.0,11.0,12.0,13.0,12.0,13.0,12.0,12.0,13.0,12.0,13.0,12.0,12.0,12.0,12.0,11.0,13.0,12.0,11.0,13.0,12.0,13.0,12.0,12.0,12.0,12.0,13.0,11.0,13.0,13.0,12.0,12.0,12.0,13.0,12.0,12.0,11.0,11.0,12.0,13.0,11.0,12.0,13.0,13.0,12.0,11.0,11.0,13.0,13.0,11.0,13.0,12.0,12.0,13.0,12.0,12.0,12.0,11.0,12.0,12.0,12.0,13.0,13.0,13.0,11.0,11.0,12.0,12.0,11.0,11.0,13.0,12.0,11.0,12.0,11.0,13.0,13.0,13.0,13.0,12.0,13.0,13.0,11.0,12.0,13.0,13.0,13.0,13.0,11.0,12.0,13.0,12.0,13.0,13.0,13.0,13.0,12.0,13.0,12.0,11.0,11.0,12.0,11.0,13.0,12.0,13.0,13.0,12.0,13.0,13.0,11.0,11.0,13.0,12.0,13.0,13.0,12.0,13.0,11.0,12.0,13.0,12.0,12.0,12.0,12.0,12.0,11.0,12.0,11.0,13.0,12.0,11.0,13.0,13.0,11.0,13.0,11.0,11.0,13.0,12.0,13.0,12.0,12.0,13.0,11.0,11.0,12.0,13.0,11.0,12.0,11.0,11.0,11.0,11.0,13.0,13.0,13.0,13.0,13.0,12.0,13.0,12.0,11.0,12.0,12.0,13.0,12.0,11.0,13.0,13.0,13.0,11.0,12.0,13.0,11.0,12.0,13.0,13.0,11.0,12.0,12.0,12.0,12.0,13.0,12.0,12.0,11.0,13.0,12.0,11.0,11.0,11.0,13.0,13.0,11.0,13.0,12.0,13.0,11.0,13.0,12.0,12.0,13.0,13.0,13.0,11.0,12.0,13.0,13.0,12.0,11.0,13.0,13.0,11.0,12.0,11.0,13.0,13.0,12.0,13.0,11.0,13.0,12.0,11.0,13.0,11.0,11.0,11.0,13.0,13.0,12.0,11.0,13.0,12.0,13.0,11.0,13.0,12.0,12.0,13.0,11.0,13.0,13.0,11.0,11.0,12.0,13.0,13.0,12.0,13.0,11.0,13.0,11.0,13.0,13.0,13.0,13.0,13.0,11.0,13.0,11.0,13.0,13.0,13.0,13.0,13.0,13.0,13.0,13.0,13.0,11.0,12.0,12.0,13.0,12.0,12.0,12.0,11.0,11.0,13.0,11.0,13.0,11.0,11.0,11.0,13.0,11.0,12.0,12.0,13.0,13.0,13.0,11.0,12.0,12.0,11.0,13.0,11.0,13.0,12.0,13.0,12.0,13.0,11.0,12.0,11.0,13.0,13.0,11.0,13.0,11.0,13.0,13.0,13.0,11.0,13.0,13.0,12.0,12.0,13.0,13.0,12.0,13.0,12.0,12.0,12.0,13.0,12.0,12.0,13.0,13.0,13.0,12.0,12.0,11.0,12.0,12.0,12.0,12.0,12.0,12.0,12.0,13.0,13.0,13.0,12.0,12.0,13.0,11.0,13.0,12.0,13.0,11.0,13.0,12.0,11.0,11.0,11.0,11.0,13.0,13.0,12.0,11.0,13.0,13.0,12.0,12.0,13.0,12.0,13.0,12.0,12.0,12.0,12.0,13.0,12.0,13.0,11.0,13.0,13.0,13.0,12.0,13.0,11.0,13.0,13.0,11.0,11.0,13.0,13.0,13.0,13.0,13.0,13.0,13.0,11.0,12.0,12.0,12.0,11.0,11.0,12.0,11.0,12.0,13.0,13.0,11.0,12.0,12.0,11.0,11.0,12.0,13.0,12.0,13.0,13.0,13.0,13.0,13.0,13.0,13.0,13.0,11.0,13.0,12.0,12.0,13.0,11.0,12.0,12.0,12.0,13.0,13.0,12.0,13.0,13.0,13.0,13.0,11.0,13.0,13.0,13.0,13.0,12.0,12.0,11.0,12.0,12.0,13.0,13.0,11.0,11.0,11.0,12.0,11.0,13.0,13.0,13.0,13.0,13.0,11.0,11.0,13.0,13.0,11.0,12.0,13.0,13.0,12.0,13.0,12.0,13.0,12.0,13.0,12.0,13.0,12.0,13.0,11.0,12.0,13.0,13.0,12.0,11.0,12.0,13.0,11.0,13.0,11.0,12.0,11.0,13.0,12.0,13.0,13.0,13.0,13.0,11.0,12.0,13.0,13.0,13.0,13.0,13.0,13.0,13.0,13.0,13.0,11.0,13.0,13.0,11.0,13.0,13.0,12.0,11.0,13.0,13.0,11.0,13.0,11.0,13.0,12.0,13.0,11.0,11.0,12.0,11.0,11.0,12.0,11.0,13.0,11.0,13.0,11.0,11.0,13.0,11.0,11.0,11.0,13.0,12.0,12.0,12.0,13.0,11.0,11.0,13.0,13.0,12.0,12.0,13.0,13.0,11.0,12.0,11.0,13.0,11.0,11.0,13.0,12.0,13.0,13.0,13.0,12.0,11.0,11.0,13.0,13.0,12.0,13.0,11.0,12.0,11.0,11.0,11.0,13.0,12.0,13.0,11.0,13.0,13.0,11.0,13.0,13.0,12.0,13.0,12.0,13.0,12.0,13.0,12.0,13.0,12.0,11.0,12.0,12.0,13.0,12.0,11.0,13.0,11.0,13.0,11.0,13.0,12.0,11.0,12.0,13.0,13.0,11.0,13.0,13.0,12.0,13.0,12.0,12.0,12.0,12.0,12.0,13.0,13.0,11.0,13.0,11.0,13.0,11.0,13.0,11.0,12.0,12.0,13.0,13.0,12.0,11.0,13.0,13.0,13.0,13.0,13.0,12.0,12.0,13.0,13.0,13.0,13.0,13.0,13.0,12.0,13.0,12.0,13.0,13.0,13.0,12.0,13.0,11.0,11.0,13.0,11.0,12.0,12.0,12.0,12.0,13.0,11.0,12.0,13.0,13.0,13.0,13.0,12.0,11.0,13.0,12.0,13.0,13.0,12.0,11.0,12.0,12.0,12.0,13.0,11.0,13.0,11.0,13.0,12.0,13.0,12.0,12.0,12.0,12.0,12.0,11.0,12.0,13.0,12.0,12.0,13.0,12.0,11.0,13.0,12.0,11.0,11.0,13.0,12.0,11.0,11.0,12.0,13.0,11.0,11.0,13.0,13.0,13.0,13.0,13.0,13.0,13.0,13.0,12.0,13.0,11.0,13.0,12.0,13.0,11.0,13.0,12.0,11.0,11.0,13.0,12.0,12.0,13.0,12.0,13.0,12.0,13.0,12.0,13.0,13.0,11.0,12.0,13.0,13.0,12.0,13.0,13.0,11.0,13.0,12.0,13.0,12.0,13.0,13.0,11.0,13.0,12.0,13.0,12.0,11.0,11.0,12.0,12.0,13.0,12.0,12.0,11.0,12.0,12.0,13.0,12.0],\"name\":\"Humidity\"}];\n            var layout = {\"title\":\"Box plot segmentation\"};\n            Plotly.newPlot('424cbad0-4b7b-4cf4-a8f4-3ac5c3027b5f', data, layout);\n        \r\n});\r\n};\r\n// ensure `require` is available globally\r\nif ((typeof(require) !==  typeof(Function)) || (typeof(require.config) !== typeof(Function))) {\r\n    let require_script = document.createElement('script');\r\n    require_script.setAttribute('src', 'https://cdnjs.cloudflare.com/ajax/libs/require.js/2.3.6/require.min.js');\r\n    require_script.setAttribute('type', 'text/javascript');\r\n    \r\n    \r\n    require_script.onload = function() {\r\n        renderPlotly();\r\n    };\r\n\r\n    document.getElementsByTagName('head')[0].appendChild(require_script);\r\n}\r\nelse {\r\n    renderPlotly();\r\n}\r\n\r\n</script>\r\n"
     },
     "execution_count": 1,
     "metadata": {}
    }
   ]
  },
  {
   "cell_type": "markdown",
   "metadata": {},
   "source": [
    "Olhando para o diagrama acima, podemos extrair informações valiosas como:\n",
    "\n",
    "a barra mediana da Distância é muito mais alta em comparação com os outros recursos\n",
    "os valores mín-máx de temperatura e infravermelho não são uniformemente distribuídos\n",
    "A temperatura tem muitos outliers\n",
    "Podemos usar essas informações posteriormente para melhorar a precisão do modelo.\n",
    "Para preparar os dados, temos que lembrar que lidamos com uma máquina e temos que transformar todos os dados categóricos (strings) em números usando transformadores categóricos como OneHotEncoding.\n",
    "\n",
    "### Matriz de correlação\n",
    "Pensando em dados, surge outra questão: realmente precisamos de todos os recursos? Muito provavelmente, mas alguns são menos importantes do que outros. A matriz de correlação (fig. 4) é um excelente instrumento capaz de medir a correlação entre as características da seguinte forma:\n",
    "\n",
    "próximo a -1 ou 1 indica uma relação forte (proporcionalidade).\n",
    "mais perto de 0 indica um relacionamento fraco.\n",
    "0 indica nenhum relacionamento.\n",
    "O código a seguir pode parecer confuso, mas precisamos preparar os dados para a matriz de correlação, nada mais é do que alinhar os valores em pares e chamar a função Correlation Pearson neles."
   ]
  },
  {
   "cell_type": "code",
   "execution_count": 1,
   "metadata": {},
   "source": [
    "var featureColumns = new string[] { \"Temperature\", \"Luminosity\", \"Infrared\", \"Distance\", \"PIR\", \"Humidity\" };\n",
    "var featureMatrix = new List<List<double>>();\n",
    "\n",
    "featureMatrix.Add(temperatures.Select(Convert.ToDouble).ToList());\n",
    "featureMatrix.Add(luminosities.Select(Convert.ToDouble).ToList());\n",
    "featureMatrix.Add(infrareds.Select(Convert.ToDouble).ToList());\n",
    "featureMatrix.Add(distances.Select(Convert.ToDouble).ToList());\n",
    "featureMatrix.Add(pirs.Select(Convert.ToDouble).ToList());\n",
    "featureMatrix.Add(humidities.Select(Convert.ToDouble).ToList());\n",
    "\n",
    "// GetPearsonCorrelation\n",
    "\n",
    "var length = featureColumns.Length;\n",
    "\n",
    "var z = new double[length, length];\n",
    "for (int x = 0; x < length; ++x)\n",
    "{\n",
    "  for (int y = 0; y < length - 1 - x; ++y)\n",
    "  {\n",
    "    var seriesA = featureMatrix[x];\n",
    "    var seriesB = featureMatrix[length - 1 - y];\n",
    "\n",
    "    var value = Correlation.Pearson(seriesA, seriesB);\n",
    "\n",
    "    z[x, y] = value;\n",
    "    z[length - 1 - y, length - 1 - x] = value;\n",
    "  }\n",
    "\n",
    "  z[x, length - 1 - x] = 1;\n",
    "}"
   ],
   "outputs": []
  },
  {
   "cell_type": "code",
   "execution_count": 1,
   "metadata": {},
   "source": [
    "// Listagem 4\n",
    "var correlationMatrixHeatmap = Chart.Plot(\n",
    "    new Graph.Heatmap \n",
    "    {\n",
    "      x = featureColumns,\n",
    "      y = featureColumns.Reverse(),\n",
    "      //        z = Helpers.GetPearsonCorrelation(featureMatrix),\n",
    "      z = z,\n",
    "      zmin = -1,\n",
    "      zmax = 1\n",
    "    }\n",
    "  );\n",
    "  \n",
    "  var layout = new Layout.Layout()\n",
    "  {\n",
    "      autosize = \"true\", \n",
    "      margin =  new Graph.Margin{ l = 90 }, // fix left margin to accomodate longer labels\n",
    "      title = \"Matrix Correlação\"\n",
    "  };\n",
    "  \n",
    "  correlationMatrixHeatmap.WithLayout(layout);\n",
    "  \n",
    "  display(correlationMatrixHeatmap);"
   ],
   "outputs": [
    {
     "output_type": "execute_result",
     "data": {
      "text/html": "<div id=\"8f48f6f5-ac00-4f32-b1ee-552ca5a76e47\" style=\"width: 900px; height: 500px;\"></div>\r\n<script type=\"text/javascript\">\r\n\r\nvar renderPlotly = function() {\r\n    var xplotRequire = require.config({context:'xplot-3.0.1',paths:{plotly:'https://cdn.plot.ly/plotly-1.49.2.min'}}) || require;\r\n    xplotRequire(['plotly'], function(Plotly) {\r\n\n            var data = [{\"type\":\"heatmap\",\"z\":[[0.05179205621974657,-0.003666137178748596,-0.2854871592318342,0.5682727200331478,0.47722053096340483,1.0],[0.004945078844008076,0.10518446447581653,-0.5556872917117325,0.40697881410525655,1.0,0.47722053096340483],[-0.009156349200553776,0.02723045804480778,-0.3679960793778778,1.0,0.40697881410525655,0.5682727200331478],[-0.0685116737944556,-0.12500437458781571,1.0,-0.3679960793778778,-0.5556872917117325,-0.2854871592318342],[0.08906249040585353,1.0,-0.12500437458781571,0.02723045804480778,0.10518446447581653,-0.003666137178748596],[1.0,0.08906249040585353,-0.0685116737944556,-0.009156349200553776,0.004945078844008076,0.05179205621974657]],\"x\":[\"Temperature\",\"Luminosity\",\"Infrared\",\"Distance\",\"PIR\",\"Humidity\"],\"y\":[\"Humidity\",\"PIR\",\"Distance\",\"Infrared\",\"Luminosity\",\"Temperature\"],\"zmin\":-1.0,\"zmax\":1.0}];\n            var layout = {\"title\":\"Matrix Correlação\",\"autosize\":\"true\",\"margin\":{\"l\":90.0}};\n            Plotly.newPlot('8f48f6f5-ac00-4f32-b1ee-552ca5a76e47', data, layout);\n        \r\n});\r\n};\r\n// ensure `require` is available globally\r\nif ((typeof(require) !==  typeof(Function)) || (typeof(require.config) !== typeof(Function))) {\r\n    let require_script = document.createElement('script');\r\n    require_script.setAttribute('src', 'https://cdnjs.cloudflare.com/ajax/libs/require.js/2.3.6/require.min.js');\r\n    require_script.setAttribute('type', 'text/javascript');\r\n    \r\n    \r\n    require_script.onload = function() {\r\n        renderPlotly();\r\n    };\r\n\r\n    document.getElementsByTagName('head')[0].appendChild(require_script);\r\n}\r\nelse {\r\n    renderPlotly();\r\n}\r\n\r\n</script>\r\n"
     },
     "execution_count": 1,
     "metadata": {}
    }
   ]
  },
  {
   "cell_type": "markdown",
   "metadata": {},
   "source": [
    ""
   ]
  },
  {
   "cell_type": "markdown",
   "metadata": {},
   "source": [
    "Os recursos fortemente correlacionados não transmitem informações extras, portanto, podem ser removidos (não é o caso aqui!). Por exemplo, nossos recursos mais correlacionados são Distância e Infravermelho (0,48), e Temperatura parece ser o recurso menos correlacionado em comparação com os outros recursos.\n",
    "\n",
    "## Construir o pipeline de pré-processamento\n",
    "\n",
    "Por convenção, o ML.NET espera encontrar a coluna Recursos (como entrada) e a coluna Rótulo (como saída), se você tiver essas colunas, não precisará fornecê-las, caso contrário, será necessário fazer algumas transformações de dados em ordem para expor essas colunas aos transformadores. Além disso, se precisarmos fazer classificações binárias ou múltiplas, temos que converter o rótulo em um número usando MapValueToKey.\n",
    "\n",
    "Na maioria dos casos, temos mais de um recurso relevante que pode ser necessário para treinar nosso modelo e precisamos concatená-los no recurso mencionado anteriormente denominado Recursos:"
   ]
  },
  {
   "cell_type": "code",
   "execution_count": 1,
   "metadata": {},
   "source": [
    "var featureColumns = new string [] { \"Temperature\", \"Luminosity\", \"Infrared\", \"Distance\" };\n",
    "var preprocessingPipeline = mlContext.Transforms.Conversion.MapValueToKey(\"Label\") \n",
    "  .Append(mlContext.Transforms.Concatenate(\"Features\", featureColumns));"
   ],
   "outputs": []
  },
  {
   "cell_type": "markdown",
   "metadata": {},
   "source": [
    "### ML Context\n",
    "Antes de prosseguir com a construção do pipeline de treinamento, vou apresentar o contêiner do catálogo MLContext. Dentro deste objeto, podemos encontrar todos os treinadores, carregadores de dados, transformadores de dados e preditores usados ​​para um grande conjunto de tarefas como: regressão, classificação, ... Muitos deles fazem parte de pacotes nuget adicionais para manter as bibliotecas principais mais leves. O parâmetro semente é útil (por exemplo, para testes de unidade) se você deseja ter um comportamento determinístico, uma vez que é usado por divisores e alguns treinadores.\n",
    "\n",
    "### O que é um treinador de ML?\n",
    "Existem vários algoritmos de treinamento para cada tipo de tarefa ML.NET disponíveis como treinadores que podem ser encontrados em seus catálogos de treinadores correspondentes. Por exemplo, Stochastic Dual Coordinated Ascent que usamos neste artigo está disponível como Sdca (para regressão), SdcaNonCalibrated e SdcaLogisticRegression (para classificação binária) e SdcaNonCalibrated e SdcaMaximumEntropy (para classificação múltipla)."
   ]
  },
  {
   "cell_type": "code",
   "execution_count": 1,
   "metadata": {},
   "source": [
    "var trainingPipeline = preprocessingPipeline.Append(mlContext.MulticlassClassification\n",
    "    .Trainers.SdcaNonCalibrated (\"Label\", \"Features\"));"
   ],
   "outputs": []
  },
  {
   "cell_type": "markdown",
   "metadata": {},
   "source": [
    "Não terminamos até que façamos o pós-processamento, que em nosso caso é simplesmente mapear a chave para o valor a fim de tornar a previsão legível (veja acima o mapeamento do valor para a chave no pipeline de pré-processamento)."
   ]
  },
  {
   "cell_type": "code",
   "execution_count": 1,
   "metadata": {},
   "source": [
    "var postprocessingPipeline = trainingPipeline.Append (mlContext.Transforms\n",
    "    .Conversion.MapKeyToValue (\"PredictedLabel\"));"
   ],
   "outputs": []
  },
  {
   "cell_type": "markdown",
   "metadata": {},
   "source": [
    "O pipeline de treinamento é suficiente para criar o modelo? Claro que não, precisamos alimentar alguns dados para treinar o modelo. Observe que, até chamarmos o método Fit em nosso pipeline, não obtemos nenhum dado do carregador, exceto seu esquema, e isso porque o DataView carrega lentamente (você pode pensar nele como um Linq IEnumerable)."
   ]
  },
  {
   "cell_type": "code",
   "execution_count": 1,
   "metadata": {},
   "source": [
    "var model = postprocessingPipeline.Fit(trainingData);"
   ],
   "outputs": []
  },
  {
   "cell_type": "code",
   "execution_count": 1,
   "metadata": {},
   "source": [
    "IDataView predictions = model.Transform(testingData);\n",
    ""
   ],
   "outputs": []
  },
  {
   "cell_type": "markdown",
   "metadata": {},
   "source": [
    "## Avalie o modelo\n",
    "A avaliação tem métricas semelhantes à validação, mas são muito diferentes em termos de escopo. A avaliação é feita no conjunto de dados de teste, que foi colocado de lado quando dividimos o conjunto de dados original e não participamos do processo de treinamento."
   ]
  },
  {
   "cell_type": "code",
   "execution_count": 1,
   "metadata": {},
   "source": [
    "// Evaluate test data\n",
    "var metrics = mlContext.MulticlassClassification.Evaluate(data:predictions, labelColumnName:\"Label\", scoreColumnName: \"Score\"); "
   ],
   "outputs": []
  },
  {
   "cell_type": "markdown",
   "metadata": {},
   "source": [
    "# Métricas de Avaliação\n",
    "Micro-Precisão agrega as contribuições de todas as classes para calcular a métrica média. Quanto mais próximo de 1,00, melhor. Em uma tarefa de classificação de várias classes, a micro-precisão é preferível à macro-precisão se você suspeitar que pode haver desequilíbrio de classes.\n",
    "\n",
    "Macro-precisão é a precisão média no nível da classe. A precisão para cada classe é calculada e a macro-precisão é a média dessas precisões. Quanto mais próximo de 1,00, melhor.\n",
    "\n",
    "Log-Loss mede o desempenho de um modelo de classificação em que a entrada de previsão é um valor de probabilidade entre 0,00 e 1,00. Quanto mais próximo de 0,00, melhor. O objetivo de nossos modelos de aprendizado de máquina é minimizar esse valor.\n",
    "\n",
    "A redução da perda de log pode ser interpretada como a vantagem do classificador sobre uma previsão aleatória. Varia de -inf a 1,00, em que 1,00 são previsões perfeitas e 0,00 indica previsões médias. Por exemplo, se o valor for igual a 0,20, pode ser interpretado como “a probabilidade de uma predição correta é 20% melhor do que a suposição aleatória”.\n",
    "\n",
    "Matriz de confusão\n",
    "Juntamente com a microprecisão, a macro-precisão e a perda de log, podemos medir a matriz de confusão. Usando o conjunto de dados de teste, podemos fazer previsões e comparar os resultados previstos com os resultados reais e podemos organizá-los em uma matriz de confusão ( fig. 6 )."
   ]
  },
  {
   "cell_type": "code",
   "execution_count": 1,
   "metadata": {},
   "source": [
    "private static void PrintMetrics(MulticlassClassificationMetrics metrics)\n",
    "{\n",
    "    Console.WriteLine($\"LogLoss: {metrics.LogLoss}\");\n",
    "    Console.WriteLine($\"LogLossReduction: {metrics.LogLossReduction}\");\n",
    "    Console.WriteLine($\"MacroAccuracy: {metrics.MacroAccuracy}\");\n",
    "    Console.WriteLine($\"MicroAccuracy: {metrics.MicroAccuracy}\");\n",
    "}"
   ],
   "outputs": []
  },
  {
   "cell_type": "code",
   "execution_count": 1,
   "metadata": {},
   "source": [
    "PrintMetrics(metrics);"
   ],
   "outputs": [
    {
     "output_type": "execute_result",
     "data": {
      "text/plain": "LogLoss: 34,53877639128314\r\n"
     },
     "execution_count": 1,
     "metadata": {}
    },
    {
     "output_type": "execute_result",
     "data": {
      "text/plain": "LogLossReduction: -24,36753651662794\r\n"
     },
     "execution_count": 1,
     "metadata": {}
    },
    {
     "output_type": "execute_result",
     "data": {
      "text/plain": "MacroAccuracy: 0,8119440985437092\r\n"
     },
     "execution_count": 1,
     "metadata": {}
    },
    {
     "output_type": "execute_result",
     "data": {
      "text/plain": "MicroAccuracy: 0,8205128205128205\r\n"
     },
     "execution_count": 1,
     "metadata": {}
    }
   ]
  },
  {
   "cell_type": "code",
   "execution_count": 1,
   "metadata": {},
   "source": [
    "Console.WriteLine(metrics.ConfusionMatrix.GetFormattedConfusionTable());"
   ],
   "outputs": [
    {
     "output_type": "execute_result",
     "data": {
      "text/plain": "\r\nConfusion table\r\n              ||================================\r\nPREDICTED     ||     0 |     1 |     2 |     3 | Recall\r\nTRUTH         ||================================\r\n0.   Infrared ||    32 |     0 |     1 |     4 | 0,8649\r\n1.   DayLight ||     1 |    34 |     2 |     9 | 0,7391\r\n2.    Lighter ||     9 |     0 |    33 |     3 | 0,7333\r\n3. FlashLight ||     4 |     2 |     0 |    61 | 0,9104\r\n              ||================================\r\nPrecision     ||0,6957 |0,9444 |0,9167 |0,7922 |\r\n\r\n"
     },
     "execution_count": 1,
     "metadata": {}
    }
   ]
  },
  {
   "cell_type": "markdown",
   "metadata": {},
   "source": [
    "No diagrama anterior, podemos ver que a classe FlashLight foi prevista corretamente (como fonte FlashLight) 63 vezes, incorretamente como Dia uma vez e Lighter uma vez também, resultando em uma taxa de precisão de 0,9189."
   ]
  },
  {
   "cell_type": "code",
   "execution_count": 1,
   "metadata": {},
   "source": [
    "List<string> categories = new List<string> {\"Temperature\", \"Luminosity\", \"Infrared\", \"Distance\"};\n",
    "Formatter.Register<ConfusionMatrix>((df, writer) =>\n",
    "{\n",
    "    var cssFirstColor = \"background-color: gray; \";\n",
    "    var cssSecondColor = \"background-color: blue; \";\n",
    "    var cssTransparent = \"background-color: transparent\";\n",
    "    var cssBold = \"font-weight: bold; \";\n",
    "    var cssPadding = \"padding: 8px; \";\n",
    "    var cssCenterAlign = \"text-align: center; \";\n",
    "    var cssTable = \"margin: 50px; \";\n",
    "    var cssTitle  = cssPadding +  cssFirstColor;\n",
    "    var cssHeader = cssPadding + cssBold + cssSecondColor;\n",
    "    var cssCount = cssPadding;\n",
    "    var cssFormula = cssPadding + cssSecondColor;\n",
    "    \n",
    "    var rows = new List<IHtmlContent>();\n",
    "    \n",
    "    // header\n",
    "    var cells = new List<IHtmlContent>();\n",
    "    cells.Add(td[rowspan: 2, colspan: 2, style: cssTitle + cssCenterAlign](\"Confusion Matrix\"));\n",
    "    cells.Add(td[colspan: df.Counts.Count, style: cssTitle + cssCenterAlign](\"Predicted\"));\n",
    "    cells.Add(td[style: cssTitle](\"\"));\n",
    "    rows.Add(tr[style: cssTransparent](cells));\n",
    "\n",
    "    // features header\n",
    "    cells = new List<IHtmlContent>();\n",
    "    for (int j = 0; j < df.Counts.Count; j++)\n",
    "    {\n",
    "        cells.Add(td[style: cssHeader](categories.ToList()[j]));\n",
    "    }\n",
    "    rows.Add(tr[style: cssTransparent](cells));\n",
    "    cells.Add(td[style: cssTitle](\"Recall\"));\n",
    "\n",
    "    // values\n",
    "    for (int i = 0; i < df.NumberOfClasses; i++)\n",
    "    {\n",
    "        cells = new List<IHtmlContent>();\n",
    "        if (i == 0)\n",
    "        {\n",
    "            cells.Add(td[rowspan: df.Counts.Count, style: cssTitle](\"Truth\"));\n",
    "        }\n",
    "        cells.Add(td[style: cssHeader](categories.ToList()[i]));\n",
    "        for (int j = 0; j < df.NumberOfClasses; j++)\n",
    "        {\n",
    "            cells.Add(td[style: cssCount](df.Counts[i][j]));\n",
    "        }\n",
    "        cells.Add(td[style: cssFormula](Math.Round(df.PerClassRecall[i], 4)));\n",
    "        rows.Add(tr[style: cssTransparent](cells));\n",
    "    }\n",
    "\n",
    "    //footer\n",
    "    cells = new List<IHtmlContent>();\n",
    "    cells.Add(td[colspan: 2, style: cssTitle](\"Precision\"));\n",
    "    for (int j = 0; j < df.Counts.Count; j++)\n",
    "    {\n",
    "        cells.Add(td[style: cssFormula](Math.Round(df.PerClassPrecision[j], 4)));\n",
    "    }\n",
    "    cells.Add(td[style: cssFormula](\"total = \" + df.Counts.Sum(x => x.Sum())));\n",
    "    rows.Add(tr[style: cssTransparent](cells));\n",
    "\n",
    "    writer.Write(table[style: cssTable](tbody(rows)));\n",
    "}, \"text/html\");\n",
    "\n",
    "display(metrics.ConfusionMatrix);"
   ],
   "outputs": [
    {
     "output_type": "execute_result",
     "data": {
      "text/html": "<table style=\"margin: 50px; \"><tbody><tr style=\"background-color: transparent\"><td colspan=\"2\" rowspan=\"2\" style=\"padding: 8px; background-color: gray; text-align: center; \">Confusion Matrix</td><td colspan=\"4\" style=\"padding: 8px; background-color: gray; text-align: center; \">Predicted</td><td style=\"padding: 8px; background-color: gray; \"></td></tr><tr style=\"background-color: transparent\"><td style=\"padding: 8px; font-weight: bold; background-color: blue; \">Temperature</td><td style=\"padding: 8px; font-weight: bold; background-color: blue; \">Luminosity</td><td style=\"padding: 8px; font-weight: bold; background-color: blue; \">Infrared</td><td style=\"padding: 8px; font-weight: bold; background-color: blue; \">Distance</td><td style=\"padding: 8px; background-color: gray; \">Recall</td></tr><tr style=\"background-color: transparent\"><td rowspan=\"4\" style=\"padding: 8px; background-color: gray; \">Truth</td><td style=\"padding: 8px; font-weight: bold; background-color: blue; \">Temperature</td><td style=\"padding: 8px; \"><div class=\"dni-plaintext\">32</div></td><td style=\"padding: 8px; \"><div class=\"dni-plaintext\">0</div></td><td style=\"padding: 8px; \"><div class=\"dni-plaintext\">1</div></td><td style=\"padding: 8px; \"><div class=\"dni-plaintext\">4</div></td><td style=\"padding: 8px; background-color: blue; \"><div class=\"dni-plaintext\">0.8649</div></td></tr><tr style=\"background-color: transparent\"><td style=\"padding: 8px; font-weight: bold; background-color: blue; \">Luminosity</td><td style=\"padding: 8px; \"><div class=\"dni-plaintext\">1</div></td><td style=\"padding: 8px; \"><div class=\"dni-plaintext\">34</div></td><td style=\"padding: 8px; \"><div class=\"dni-plaintext\">2</div></td><td style=\"padding: 8px; \"><div class=\"dni-plaintext\">9</div></td><td style=\"padding: 8px; background-color: blue; \"><div class=\"dni-plaintext\">0.7391</div></td></tr><tr style=\"background-color: transparent\"><td style=\"padding: 8px; font-weight: bold; background-color: blue; \">Infrared</td><td style=\"padding: 8px; \"><div class=\"dni-plaintext\">9</div></td><td style=\"padding: 8px; \"><div class=\"dni-plaintext\">0</div></td><td style=\"padding: 8px; \"><div class=\"dni-plaintext\">33</div></td><td style=\"padding: 8px; \"><div class=\"dni-plaintext\">3</div></td><td style=\"padding: 8px; background-color: blue; \"><div class=\"dni-plaintext\">0.7333</div></td></tr><tr style=\"background-color: transparent\"><td style=\"padding: 8px; font-weight: bold; background-color: blue; \">Distance</td><td style=\"padding: 8px; \"><div class=\"dni-plaintext\">4</div></td><td style=\"padding: 8px; \"><div class=\"dni-plaintext\">2</div></td><td style=\"padding: 8px; \"><div class=\"dni-plaintext\">0</div></td><td style=\"padding: 8px; \"><div class=\"dni-plaintext\">61</div></td><td style=\"padding: 8px; background-color: blue; \"><div class=\"dni-plaintext\">0.9104</div></td></tr><tr style=\"background-color: transparent\"><td colspan=\"2\" style=\"padding: 8px; background-color: gray; \">Precision</td><td style=\"padding: 8px; background-color: blue; \"><div class=\"dni-plaintext\">0.6957</div></td><td style=\"padding: 8px; background-color: blue; \"><div class=\"dni-plaintext\">0.9444</div></td><td style=\"padding: 8px; background-color: blue; \"><div class=\"dni-plaintext\">0.9167</div></td><td style=\"padding: 8px; background-color: blue; \"><div class=\"dni-plaintext\">0.7922</div></td><td style=\"padding: 8px; background-color: blue; \">total = 195</td></tr></tbody></table>"
     },
     "execution_count": 1,
     "metadata": {}
    }
   ]
  },
  {
   "cell_type": "markdown",
   "metadata": {},
   "source": [
    "## Salvar o modelo\n",
    "Depois de experimentar diferentes conjuntos de recursos, instrutores e parâmetros para construir um modelo de aprendizado de máquina, escolhemos aquele que melhor se adapta às nossas necessidades. Muito provavelmente, precisamos do modelo em um cenário de produção, então temos que persistir o modelo em um arquivo físico em formato nativo (ML.NET) ou em formato ONNX (que é um formato portátil desenvolvido pela Microsoft e Facebook e adotado por outros grandes players também). Sem surpresa, se você der uma olhada no arquivo (para o formato nativo), você perceberá que é um zip de arquivos de texto contendo números.\n",
    "\n",
    "Salvando o modelo em formato nativo:"
   ]
  },
  {
   "cell_type": "code",
   "execution_count": 1,
   "metadata": {},
   "source": [
    "mlContext.Model.Save(model, trainingData.Schema, ModelPath);"
   ],
   "outputs": []
  },
  {
   "cell_type": "code",
   "execution_count": 1,
   "metadata": {},
   "source": [
    "// Carregar o modelo\n",
    "DataViewSchema modelSchema;\n",
    "var trainedModel = mlContext.Model.Load(ModelPath,  out modelSchema);"
   ],
   "outputs": []
  },
  {
   "cell_type": "code",
   "execution_count": 1,
   "metadata": {},
   "source": [
    "// Realizar predição \n",
    "var sampleData = new ModelInput\n",
    "{\n",
    "    Temperature = 24.77f,\n",
    "    Luminosity = 64.06f,\n",
    "    Infrared = 0,\n",
    "    Distance = 55,   \n",
    "    PIR = 0,\n",
    "    Humidity = 11,\n",
    "    CreatedAt = DateTime.Now.ToString(\"dd/MM/yyyy hh:mm:ss\")\n",
    "};\n",
    "\n",
    "var predictor = mlContext.Model.CreatePredictionEngine<ModelInput, ModelOutput>(model);\n",
    "\n",
    "var predicted = predictor.Predict(sampleData);\n",
    "\n",
    "Console.WriteLine(predicted.PredictedLabel);"
   ],
   "outputs": [
    {
     "output_type": "execute_result",
     "data": {
      "text/plain": "FlashLight\r\n"
     },
     "execution_count": 1,
     "metadata": {}
    }
   ]
  }
 ],
 "metadata": {
  "kernelspec": {
   "display_name": ".NET (C#)",
   "language": "C#",
   "name": ".net-csharp"
  },
  "language_info": {
   "file_extension": ".cs",
   "mimetype": "text/x-csharp",
   "name": "C#",
   "pygments_lexer": "csharp",
   "version": "8.0"
  }
 },
 "nbformat": 4,
 "nbformat_minor": 4
}